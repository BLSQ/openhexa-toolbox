{
 "cells": [
  {
   "cell_type": "code",
   "execution_count": null,
   "metadata": {},
   "outputs": [],
   "source": [
    "import json\n",
    "from datetime import datetime, timezone\n",
    "from typing import Iterable\n",
    "\n",
    "import polars as pl\n",
    "from responses import _recorder\n",
    "\n",
    "from openhexa.toolbox.iaso import IASO\n",
    "from openhexa.toolbox.iaso.dataframe import (\n",
    "    extract_submissions,\n",
    "    get_form_metadata,\n",
    "    get_organisation_units,\n",
    "    replace_labels,\n",
    ")"
   ]
  },
  {
   "cell_type": "code",
   "execution_count": null,
   "metadata": {},
   "outputs": [],
   "source": [
    "pl.Config.set_tbl_width_chars(1000)\n",
    "pl.Config.set_tbl_cols(25)"
   ]
  },
  {
   "cell_type": "code",
   "execution_count": null,
   "metadata": {},
   "outputs": [],
   "source": [
    "iaso = IASO(server_url=\"https://iaso-staging.bluesquare.org\", username=\"wfdmqgv\", password=input(\"Password:\"))"
   ]
  },
  {
   "cell_type": "code",
   "execution_count": null,
   "metadata": {},
   "outputs": [],
   "source": [
    "@_recorder.record(file_path=\"responses/dataframe/get_organisation_units.yaml\")\n",
    "def test_get_organisation_units(iaso: IASO):\n",
    "    df = get_organisation_units(iaso)\n",
    "    expected_schema = pl.Schema({\n",
    "        \"id\": pl.Int64,\n",
    "        \"name\": pl.String,\n",
    "        \"org_unit_type\": pl.String,\n",
    "        \"latitude\": pl.Float64,\n",
    "        \"longitude\": pl.Float64,\n",
    "        \"opening_date\": pl.Date,\n",
    "        \"closing_date\": pl.Date,\n",
    "        \"created_at\": pl.Datetime(time_unit=\"us\", time_zone=None),\n",
    "        \"updated_at\": pl.Datetime(time_unit=\"us\", time_zone=None),\n",
    "        \"source\": pl.String,\n",
    "        \"validation_status\": pl.String,\n",
    "        \"source_ref\": pl.String,\n",
    "        \"level_1_ref\": pl.String,\n",
    "        \"level_2_ref\": pl.String,\n",
    "        \"level_3_ref\": pl.String,\n",
    "        \"level_4_ref\": pl.String,\n",
    "        \"level_1_name\": pl.String,\n",
    "        \"level_2_name\": pl.String,\n",
    "        \"level_3_name\": pl.String,\n",
    "        \"level_4_name\": pl.String,\n",
    "        \"geometry\": pl.String,\n",
    "    })\n",
    "    assert df.schema == expected_schema\n",
    "    assert len(df) > 100\n",
    "    return df"
   ]
  },
  {
   "cell_type": "code",
   "execution_count": null,
   "metadata": {},
   "outputs": [],
   "source": [
    "df = test_get_organisation_units(iaso)\n",
    "df"
   ]
  },
  {
   "cell_type": "code",
   "execution_count": null,
   "metadata": {},
   "outputs": [],
   "source": [
    "@_recorder.record(file_path=\"responses/dataframe/get_form_metadata.yaml\")\n",
    "def test_get_form_metadata(iaso: IASO):\n",
    "    questions, choices = get_form_metadata(iaso, form_id=505)\n",
    "    assert len(questions) > 10\n",
    "    assert len(choices) > 5\n",
    "    return questions, choices"
   ]
  },
  {
   "cell_type": "code",
   "execution_count": null,
   "metadata": {},
   "outputs": [],
   "source": [
    "questions, choices = test_get_form_metadata(iaso)"
   ]
  },
  {
   "cell_type": "code",
   "execution_count": null,
   "metadata": {},
   "outputs": [],
   "source": [
    "@_recorder.record(file_path=\"responses/dataframe/extract_submissions.yaml\")\n",
    "def test_extract_submissions(iaso: IASO):\n",
    "    df = extract_submissions(iaso, form_id=505)\n",
    "    assert len(df) > 10\n",
    "    return df"
   ]
  },
  {
   "cell_type": "code",
   "execution_count": null,
   "metadata": {},
   "outputs": [],
   "source": [
    "df = test_extract_submissions(iaso)\n",
    "df"
   ]
  },
  {
   "cell_type": "code",
   "execution_count": null,
   "metadata": {},
   "outputs": [],
   "source": [
    "@_recorder.record(file_path=\"responses/dataframe/replace_labels.yaml\")\n",
    "def test_replace_labels(iaso: IASO):\n",
    "    df = extract_submissions(iaso, form_id=505)\n",
    "    questions, choices = get_form_metadata(iaso, form_id=505)\n",
    "    df = replace_labels(df, questions, choices, language=\"French\")\n",
    "    assert len(df) > 10\n",
    "    return df"
   ]
  },
  {
   "cell_type": "code",
   "execution_count": null,
   "metadata": {},
   "outputs": [],
   "source": [
    "df = test_replace_labels(iaso)\n",
    "df"
   ]
  },
  {
   "cell_type": "code",
   "execution_count": null,
   "metadata": {},
   "outputs": [],
   "source": []
  }
 ],
 "metadata": {
  "kernelspec": {
   "display_name": "openhexa-toolbox-dev",
   "language": "python",
   "name": "python3"
  },
  "language_info": {
   "codemirror_mode": {
    "name": "ipython",
    "version": 3
   },
   "file_extension": ".py",
   "mimetype": "text/x-python",
   "name": "python",
   "nbconvert_exporter": "python",
   "pygments_lexer": "ipython3",
   "version": "3.11.10"
  }
 },
 "nbformat": 4,
 "nbformat_minor": 2
}
