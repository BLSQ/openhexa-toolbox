{
 "cells": [
  {
   "cell_type": "code",
   "execution_count": 1,
   "metadata": {},
   "outputs": [],
   "source": [
    "import logging\n",
    "from datetime import datetime\n",
    "from pathlib import Path\n",
    "\n",
    "import polars as pl\n",
    "from responses import _recorder\n",
    "\n",
    "from openhexa.sdk.workspaces.connection import DHIS2Connection\n",
    "from openhexa.toolbox.dhis2 import DHIS2, dataframe"
   ]
  },
  {
   "cell_type": "code",
   "execution_count": 2,
   "metadata": {},
   "outputs": [],
   "source": [
    "logging.basicConfig(level=logging.INFO)\n",
    "logger = logging.getLogger()\n",
    "logger.setLevel(logging.INFO)\n",
    "logging.getLogger(\"openhexa.toolbox.dhis2\").setLevel(logging.DEBUG)"
   ]
  },
  {
   "cell_type": "code",
   "execution_count": 3,
   "metadata": {},
   "outputs": [
    {
     "name": "stderr",
     "output_type": "stream",
     "text": [
      "INFO:openhexa.toolbox.dhis2.api:Logged in to 'http://localhost:8080/api' as 'admin'\n",
      "DEBUG:openhexa.toolbox.dhis2.api:API request http://localhost:8080/api/system/info\n"
     ]
    }
   ],
   "source": [
    "url = \"http://localhost:8080\"\n",
    "username = \"admin\"\n",
    "password = \"district\"\n",
    "\n",
    "con = DHIS2Connection(url, username, password)\n",
    "sle = DHIS2(con)"
   ]
  },
  {
   "cell_type": "code",
   "execution_count": 4,
   "metadata": {},
   "outputs": [
    {
     "data": {
      "text/plain": [
       "'2.39.8'"
      ]
     },
     "execution_count": 4,
     "metadata": {},
     "output_type": "execute_result"
    }
   ],
   "source": [
    "sle.version"
   ]
  },
  {
   "cell_type": "code",
   "execution_count": 5,
   "metadata": {},
   "outputs": [],
   "source": [
    "version = \"2.39\"\n",
    "responses_dir = Path(\"responses\", \"dataframe\", version)\n",
    "responses_dir.mkdir(parents=True, exist_ok=True)"
   ]
  },
  {
   "cell_type": "code",
   "execution_count": 21,
   "metadata": {},
   "outputs": [
    {
     "name": "stderr",
     "output_type": "stream",
     "text": [
      "DEBUG:openhexa.toolbox.dhis2.api:API request http://localhost:8080/api/dataSets?fields=id%2Cname%2CorganisationUnits%2CdataSetElements%2Cindicators%2CperiodType%2ClastUpdated&pageSize=1000\n"
     ]
    },
    {
     "data": {
      "text/html": [
       "<div><style>\n",
       ".dataframe > thead > tr,\n",
       ".dataframe > tbody > tr {\n",
       "  text-align: right;\n",
       "  white-space: pre-wrap;\n",
       "}\n",
       "</style>\n",
       "<small>shape: (26, 6)</small><table border=\"1\" class=\"dataframe\"><thead><tr><th>id</th><th>name</th><th>organisation_units</th><th>data_elements</th><th>indicators</th><th>period_type</th></tr><tr><td>str</td><td>str</td><td>list[str]</td><td>list[str]</td><td>list[str]</td><td>str</td></tr></thead><tbody><tr><td>&quot;lyLU2wR22tC&quot;</td><td>&quot;ART monthly summary&quot;</td><td>[&quot;y77LiPqLMoq&quot;, &quot;rwfuVQHnZJ5&quot;, … &quot;VdXuxcNkiad&quot;]</td><td>[&quot;AzwEuYfWAtN&quot;, &quot;TyQ1vOHM6JO&quot;, … &quot;LJBV91hapop&quot;]</td><td>[]</td><td>&quot;Monthly&quot;</td></tr><tr><td>&quot;BfMAe6Itzgt&quot;</td><td>&quot;Child Health&quot;</td><td>[&quot;y77LiPqLMoq&quot;, &quot;rwfuVQHnZJ5&quot;, … &quot;VdXuxcNkiad&quot;]</td><td>[&quot;Y53Jcc9LBYh&quot;, &quot;pikOziyCXbM&quot;, … &quot;GCGfEY82Wz6&quot;]</td><td>[]</td><td>&quot;Monthly&quot;</td></tr><tr><td>&quot;VTdjfLXXmoi&quot;</td><td>&quot;Clinical Monitoring Checklist &quot;</td><td>[&quot;y77LiPqLMoq&quot;, &quot;rwfuVQHnZJ5&quot;, … &quot;VdXuxcNkiad&quot;]</td><td>[&quot;tY33H1Xmbiq&quot;, &quot;X4SRfUAnrHD&quot;, … &quot;rTYZHPHVULr&quot;]</td><td>[]</td><td>&quot;SixMonthly&quot;</td></tr><tr><td>&quot;TuL8IOPzpHh&quot;</td><td>&quot;EPI Stock&quot;</td><td>[&quot;y77LiPqLMoq&quot;, &quot;rwfuVQHnZJ5&quot;, … &quot;VdXuxcNkiad&quot;]</td><td>[&quot;t99PL3gUxIl&quot;, &quot;XNrjXqZrHD8&quot;, … &quot;WVrH6j3Wfye&quot;]</td><td>[&quot;OEWO2PpiUKx&quot;, &quot;bASXd9ukRGD&quot;, &quot;loEBZlcsTlx&quot;]</td><td>&quot;Monthly&quot;</td></tr><tr><td>&quot;Lpw6GcnTrmS&quot;</td><td>&quot;Emergency Response&quot;</td><td>[&quot;y77LiPqLMoq&quot;, &quot;rwfuVQHnZJ5&quot;, … &quot;VdXuxcNkiad&quot;]</td><td>[&quot;EX2jDbKe4Yq&quot;, &quot;qiaHMoI3bjA&quot;, … &quot;oI6YtDaVFcw&quot;]</td><td>[]</td><td>&quot;Monthly&quot;</td></tr><tr><td>&hellip;</td><td>&hellip;</td><td>&hellip;</td><td>&hellip;</td><td>&hellip;</td><td>&hellip;</td></tr><tr><td>&quot;Y8gAn9DfAGU&quot;</td><td>&quot;Project Management&quot;</td><td>[&quot;y77LiPqLMoq&quot;, &quot;rwfuVQHnZJ5&quot;, … &quot;VdXuxcNkiad&quot;]</td><td>[&quot;qF555AXehEn&quot;, &quot;seNDI6rguib&quot;, … &quot;okVqga4sADb&quot;]</td><td>[]</td><td>&quot;Quarterly&quot;</td></tr><tr><td>&quot;QX4ZTUbOt3a&quot;</td><td>&quot;Reproductive Health&quot;</td><td>[&quot;y77LiPqLMoq&quot;, &quot;rwfuVQHnZJ5&quot;, … &quot;VdXuxcNkiad&quot;]</td><td>[&quot;V37YqbqpEhV&quot;, &quot;bqK6eSIwo3h&quot;, … &quot;k1vnEuKnRYE&quot;]</td><td>[&quot;gNAXtpqAqW2&quot;, &quot;n3fzCxYk3k3&quot;, … &quot;aEtcFtcJjtZ&quot;]</td><td>&quot;Monthly&quot;</td></tr><tr><td>&quot;N4fIX1HL3TQ&quot;</td><td>&quot;Staffing&quot;</td><td>[&quot;y77LiPqLMoq&quot;, &quot;rwfuVQHnZJ5&quot;, … &quot;VdXuxcNkiad&quot;]</td><td>[&quot;v0Shu9zrSh0&quot;, &quot;EzR5Y2V0JF9&quot;, … &quot;vBu1MTGwcZh&quot;]</td><td>[]</td><td>&quot;SixMonthly&quot;</td></tr><tr><td>&quot;SF8FDSqw30D&quot;</td><td>&quot;TB Facility Reporting Form&quot;</td><td>[&quot;y77LiPqLMoq&quot;, &quot;rwfuVQHnZJ5&quot;, … &quot;VdXuxcNkiad&quot;]</td><td>[&quot;zg2HS37R0S0&quot;, &quot;iwKQb6AzcyA&quot;, … &quot;NzUztyjtUm2&quot;]</td><td>[]</td><td>&quot;Monthly&quot;</td></tr><tr><td>&quot;OsPTWNqq26W&quot;</td><td>&quot;TB/HIV (VCCT) monthly summary&quot;</td><td>[&quot;y77LiPqLMoq&quot;, &quot;rwfuVQHnZJ5&quot;, … &quot;VdXuxcNkiad&quot;]</td><td>[&quot;IpwsH1GUjCs&quot;, &quot;EASG4IZChNr&quot;, … &quot;ZydlV51mGuj&quot;]</td><td>[]</td><td>&quot;Monthly&quot;</td></tr></tbody></table></div>"
      ],
      "text/plain": [
       "shape: (26, 6)\n",
       "┌─────────────┬─────────────────┬─────────────────┬─────────────────┬────────────────┬─────────────┐\n",
       "│ id          ┆ name            ┆ organisation_un ┆ data_elements   ┆ indicators     ┆ period_type │\n",
       "│ ---         ┆ ---             ┆ its             ┆ ---             ┆ ---            ┆ ---         │\n",
       "│ str         ┆ str             ┆ ---             ┆ list[str]       ┆ list[str]      ┆ str         │\n",
       "│             ┆                 ┆ list[str]       ┆                 ┆                ┆             │\n",
       "╞═════════════╪═════════════════╪═════════════════╪═════════════════╪════════════════╪═════════════╡\n",
       "│ lyLU2wR22tC ┆ ART monthly     ┆ [\"y77LiPqLMoq\", ┆ [\"AzwEuYfWAtN\", ┆ []             ┆ Monthly     │\n",
       "│             ┆ summary         ┆ \"rwfuVQHnZJ5\",… ┆ \"TyQ1vOHM6JO\",… ┆                ┆             │\n",
       "│ BfMAe6Itzgt ┆ Child Health    ┆ [\"y77LiPqLMoq\", ┆ [\"Y53Jcc9LBYh\", ┆ []             ┆ Monthly     │\n",
       "│             ┆                 ┆ \"rwfuVQHnZJ5\",… ┆ \"pikOziyCXbM\",… ┆                ┆             │\n",
       "│ VTdjfLXXmoi ┆ Clinical        ┆ [\"y77LiPqLMoq\", ┆ [\"tY33H1Xmbiq\", ┆ []             ┆ SixMonthly  │\n",
       "│             ┆ Monitoring      ┆ \"rwfuVQHnZJ5\",… ┆ \"X4SRfUAnrHD\",… ┆                ┆             │\n",
       "│             ┆ Checklist       ┆                 ┆                 ┆                ┆             │\n",
       "│ TuL8IOPzpHh ┆ EPI Stock       ┆ [\"y77LiPqLMoq\", ┆ [\"t99PL3gUxIl\", ┆ [\"OEWO2PpiUKx\" ┆ Monthly     │\n",
       "│             ┆                 ┆ \"rwfuVQHnZJ5\",… ┆ \"XNrjXqZrHD8\",… ┆ , \"bASXd9ukRGD ┆             │\n",
       "│             ┆                 ┆                 ┆                 ┆ \",…            ┆             │\n",
       "│ Lpw6GcnTrmS ┆ Emergency       ┆ [\"y77LiPqLMoq\", ┆ [\"EX2jDbKe4Yq\", ┆ []             ┆ Monthly     │\n",
       "│             ┆ Response        ┆ \"rwfuVQHnZJ5\",… ┆ \"qiaHMoI3bjA\",… ┆                ┆             │\n",
       "│ …           ┆ …               ┆ …               ┆ …               ┆ …              ┆ …           │\n",
       "│ Y8gAn9DfAGU ┆ Project         ┆ [\"y77LiPqLMoq\", ┆ [\"qF555AXehEn\", ┆ []             ┆ Quarterly   │\n",
       "│             ┆ Management      ┆ \"rwfuVQHnZJ5\",… ┆ \"seNDI6rguib\",… ┆                ┆             │\n",
       "│ QX4ZTUbOt3a ┆ Reproductive    ┆ [\"y77LiPqLMoq\", ┆ [\"V37YqbqpEhV\", ┆ [\"gNAXtpqAqW2\" ┆ Monthly     │\n",
       "│             ┆ Health          ┆ \"rwfuVQHnZJ5\",… ┆ \"bqK6eSIwo3h\",… ┆ , \"n3fzCxYk3k3 ┆             │\n",
       "│             ┆                 ┆                 ┆                 ┆ \",…            ┆             │\n",
       "│ N4fIX1HL3TQ ┆ Staffing        ┆ [\"y77LiPqLMoq\", ┆ [\"v0Shu9zrSh0\", ┆ []             ┆ SixMonthly  │\n",
       "│             ┆                 ┆ \"rwfuVQHnZJ5\",… ┆ \"EzR5Y2V0JF9\",… ┆                ┆             │\n",
       "│ SF8FDSqw30D ┆ TB Facility     ┆ [\"y77LiPqLMoq\", ┆ [\"zg2HS37R0S0\", ┆ []             ┆ Monthly     │\n",
       "│             ┆ Reporting Form  ┆ \"rwfuVQHnZJ5\",… ┆ \"iwKQb6AzcyA\",… ┆                ┆             │\n",
       "│ OsPTWNqq26W ┆ TB/HIV (VCCT)   ┆ [\"y77LiPqLMoq\", ┆ [\"IpwsH1GUjCs\", ┆ []             ┆ Monthly     │\n",
       "│             ┆ monthly summary ┆ \"rwfuVQHnZJ5\",… ┆ \"EASG4IZChNr\",… ┆                ┆             │\n",
       "└─────────────┴─────────────────┴─────────────────┴─────────────────┴────────────────┴─────────────┘"
      ]
     },
     "execution_count": 21,
     "metadata": {},
     "output_type": "execute_result"
    }
   ],
   "source": [
    "@_recorder.record(file_path=Path(responses_dir, \"get_datasets.yaml\"))\n",
    "def test_get_datasets(dhis2: DHIS2):\n",
    "    df = dataframe.get_datasets(dhis2=dhis2)\n",
    "    assert len(df) > 20\n",
    "    expected_schema = pl.Schema(\n",
    "        {\n",
    "            \"id\": pl.String,\n",
    "            \"name\": pl.String,\n",
    "            \"organisation_units\": pl.List(pl.String),\n",
    "            \"data_elements\": pl.List(pl.String),\n",
    "            \"indicators\": pl.List(pl.String),\n",
    "            \"period_type\": pl.String,\n",
    "        }\n",
    "    )\n",
    "    assert df.schema == expected_schema\n",
    "    return df\n",
    "\n",
    "\n",
    "df = test_get_datasets(sle)\n",
    "df"
   ]
  },
  {
   "cell_type": "code",
   "execution_count": 23,
   "metadata": {},
   "outputs": [
    {
     "name": "stderr",
     "output_type": "stream",
     "text": [
      "DEBUG:openhexa.toolbox.dhis2.api:API request http://localhost:8080/api/dataElements?fields=id%2Cname%2CvalueType&pageSize=1000\n",
      "DEBUG:openhexa.toolbox.dhis2.api:API request http://localhost:8080/api/dataElements?fields=id%2Cname%2CvalueType&pageSize=1000&page=2\n"
     ]
    },
    {
     "data": {
      "text/html": [
       "<div><style>\n",
       ".dataframe > thead > tr,\n",
       ".dataframe > tbody > tr {\n",
       "  text-align: right;\n",
       "  white-space: pre-wrap;\n",
       "}\n",
       "</style>\n",
       "<small>shape: (1_037, 3)</small><table border=\"1\" class=\"dataframe\"><thead><tr><th>id</th><th>name</th><th>value_type</th></tr><tr><td>str</td><td>str</td><td>str</td></tr></thead><tbody><tr><td>&quot;FTRrcoaog83&quot;</td><td>&quot;Accute Flaccid Paralysis (Deat…</td><td>&quot;NUMBER&quot;</td></tr><tr><td>&quot;P3jJH5Tu5VC&quot;</td><td>&quot;Acute Flaccid Paralysis (AFP) …</td><td>&quot;NUMBER&quot;</td></tr><tr><td>&quot;FQ2o8UBlcrS&quot;</td><td>&quot;Acute Flaccid Paralysis (AFP) …</td><td>&quot;NUMBER&quot;</td></tr><tr><td>&quot;M62VHgYT2n0&quot;</td><td>&quot;Acute Flaccid Paralysis (AFP) …</td><td>&quot;NUMBER&quot;</td></tr><tr><td>&quot;WO8yRIZb7nb&quot;</td><td>&quot;Additional medication&quot;</td><td>&quot;TEXT&quot;</td></tr><tr><td>&hellip;</td><td>&hellip;</td><td>&hellip;</td></tr><tr><td>&quot;l6byfWFUGaP&quot;</td><td>&quot;Yellow Fever doses given&quot;</td><td>&quot;NUMBER&quot;</td></tr><tr><td>&quot;hvdCBRWUk80&quot;</td><td>&quot;Yellow fever follow-up&quot;</td><td>&quot;NUMBER&quot;</td></tr><tr><td>&quot;XWU1Huh0Luy&quot;</td><td>&quot;Yellow fever new&quot;</td><td>&quot;NUMBER&quot;</td></tr><tr><td>&quot;zSJF2b48kOg&quot;</td><td>&quot;Yellow fever referrals&quot;</td><td>&quot;NUMBER&quot;</td></tr><tr><td>&quot;QN8WyI8KgpU&quot;</td><td>&quot;YesOnly&quot;</td><td>&quot;TRUE_ONLY&quot;</td></tr></tbody></table></div>"
      ],
      "text/plain": [
       "shape: (1_037, 3)\n",
       "┌─────────────┬─────────────────────────────────┬────────────┐\n",
       "│ id          ┆ name                            ┆ value_type │\n",
       "│ ---         ┆ ---                             ┆ ---        │\n",
       "│ str         ┆ str                             ┆ str        │\n",
       "╞═════════════╪═════════════════════════════════╪════════════╡\n",
       "│ FTRrcoaog83 ┆ Accute Flaccid Paralysis (Deat… ┆ NUMBER     │\n",
       "│ P3jJH5Tu5VC ┆ Acute Flaccid Paralysis (AFP) … ┆ NUMBER     │\n",
       "│ FQ2o8UBlcrS ┆ Acute Flaccid Paralysis (AFP) … ┆ NUMBER     │\n",
       "│ M62VHgYT2n0 ┆ Acute Flaccid Paralysis (AFP) … ┆ NUMBER     │\n",
       "│ WO8yRIZb7nb ┆ Additional medication           ┆ TEXT       │\n",
       "│ …           ┆ …                               ┆ …          │\n",
       "│ l6byfWFUGaP ┆ Yellow Fever doses given        ┆ NUMBER     │\n",
       "│ hvdCBRWUk80 ┆ Yellow fever follow-up          ┆ NUMBER     │\n",
       "│ XWU1Huh0Luy ┆ Yellow fever new                ┆ NUMBER     │\n",
       "│ zSJF2b48kOg ┆ Yellow fever referrals          ┆ NUMBER     │\n",
       "│ QN8WyI8KgpU ┆ YesOnly                         ┆ TRUE_ONLY  │\n",
       "└─────────────┴─────────────────────────────────┴────────────┘"
      ]
     },
     "execution_count": 23,
     "metadata": {},
     "output_type": "execute_result"
    }
   ],
   "source": [
    "@_recorder.record(file_path=Path(responses_dir, \"get_data_elements.yaml\"))\n",
    "def test_get_data_elements(dhis2: DHIS2):\n",
    "    df = dataframe.get_data_elements(dhis2=dhis2)\n",
    "    assert len(df) > 20\n",
    "    expected_schema = pl.Schema({\"id\": pl.String, \"name\": pl.String, \"value_type\": pl.String})\n",
    "    assert df.schema == expected_schema\n",
    "    return df\n",
    "\n",
    "\n",
    "df = test_get_data_elements(sle)\n",
    "df"
   ]
  },
  {
   "cell_type": "code",
   "execution_count": 25,
   "metadata": {},
   "outputs": [
    {
     "name": "stderr",
     "output_type": "stream",
     "text": [
      "DEBUG:openhexa.toolbox.dhis2.api:API request http://localhost:8080/api/dataElementGroups?fields=id%2Cname%2CdataElements&pageSize=1000\n"
     ]
    },
    {
     "data": {
      "text/html": [
       "<div><style>\n",
       ".dataframe > thead > tr,\n",
       ".dataframe > tbody > tr {\n",
       "  text-align: right;\n",
       "  white-space: pre-wrap;\n",
       "}\n",
       "</style>\n",
       "<small>shape: (84, 3)</small><table border=\"1\" class=\"dataframe\"><thead><tr><th>id</th><th>name</th><th>data_elements</th></tr><tr><td>str</td><td>str</td><td>list[str]</td></tr></thead><tbody><tr><td>&quot;qfxEYY9xAl6&quot;</td><td>&quot;ANC&quot;</td><td>[&quot;V37YqbqpEhV&quot;, &quot;hfdmMSPBgLG&quot;, … &quot;SA7WeFZnUci&quot;]</td></tr><tr><td>&quot;yhg8oYU9ekY&quot;</td><td>&quot;ARI Treated Without Antibiotic…</td><td>[&quot;Cm4XUw6VAxv&quot;, &quot;oLfWYAJhZb2&quot;, &quot;RF4VFVGdFRO&quot;]</td></tr><tr><td>&quot;M2cth8EmrlT&quot;</td><td>&quot;ARI treated with antibiotics (…</td><td>[&quot;iKGjnOOaPlE&quot;, &quot;XTqOHygxDj5&quot;, &quot;FHD3wiSM7Sn&quot;]</td></tr><tr><td>&quot;k1M0nuodfhN&quot;</td><td>&quot;ART&quot;</td><td>[&quot;wfKKFhBn0Q0&quot;, &quot;ZgIaamZjBjz&quot;, … &quot;MeAvt39JtqN&quot;]</td></tr><tr><td>&quot;bdiyMm9qZl5&quot;</td><td>&quot;ART enrollment&quot;</td><td>[&quot;FTy5pcJZ3yX&quot;, &quot;I5MLuG16arn&quot;, … &quot;eRwOwCpMzyP&quot;]</td></tr><tr><td>&hellip;</td><td>&hellip;</td><td>&hellip;</td></tr><tr><td>&quot;U9wcARyKSzx&quot;</td><td>&quot;VCCT&quot;</td><td>[&quot;oxht1VLqF6x&quot;, &quot;IpwsH1GUjCs&quot;, … &quot;ZydlV51mGuj&quot;]</td></tr><tr><td>&quot;LzDaTmQYWcj&quot;</td><td>&quot;Worm Infestation&quot;</td><td>[&quot;VmoPqzwBgkx&quot;, &quot;E62UwxnYf26&quot;, &quot;Usk9Asj5DED&quot;]</td></tr><tr><td>&quot;IUZ0GidX0jh&quot;</td><td>&quot;Wounds/Trauma&quot;</td><td>[&quot;JMKtVQ5HasH&quot;, &quot;FJs8ZjlQE6f&quot;, &quot;yJwdE6XJbrF&quot;]</td></tr><tr><td>&quot;zmWJAEjfv59&quot;</td><td>&quot;Yaws&quot;</td><td>[&quot;gQAAvbLx8MM&quot;, &quot;plfo9ai1jtW&quot;, &quot;FF3Ev33BuCh&quot;]</td></tr><tr><td>&quot;HAraPb0v7ex&quot;</td><td>&quot;Yellow Fever&quot;</td><td>[&quot;XWU1Huh0Luy&quot;, &quot;zSJF2b48kOg&quot;, &quot;hvdCBRWUk80&quot;]</td></tr></tbody></table></div>"
      ],
      "text/plain": [
       "shape: (84, 3)\n",
       "┌─────────────┬─────────────────────────────────┬─────────────────────────────────┐\n",
       "│ id          ┆ name                            ┆ data_elements                   │\n",
       "│ ---         ┆ ---                             ┆ ---                             │\n",
       "│ str         ┆ str                             ┆ list[str]                       │\n",
       "╞═════════════╪═════════════════════════════════╪═════════════════════════════════╡\n",
       "│ qfxEYY9xAl6 ┆ ANC                             ┆ [\"V37YqbqpEhV\", \"hfdmMSPBgLG\",… │\n",
       "│ yhg8oYU9ekY ┆ ARI Treated Without Antibiotic… ┆ [\"Cm4XUw6VAxv\", \"oLfWYAJhZb2\",… │\n",
       "│ M2cth8EmrlT ┆ ARI treated with antibiotics (… ┆ [\"iKGjnOOaPlE\", \"XTqOHygxDj5\",… │\n",
       "│ k1M0nuodfhN ┆ ART                             ┆ [\"wfKKFhBn0Q0\", \"ZgIaamZjBjz\",… │\n",
       "│ bdiyMm9qZl5 ┆ ART enrollment                  ┆ [\"FTy5pcJZ3yX\", \"I5MLuG16arn\",… │\n",
       "│ …           ┆ …                               ┆ …                               │\n",
       "│ U9wcARyKSzx ┆ VCCT                            ┆ [\"oxht1VLqF6x\", \"IpwsH1GUjCs\",… │\n",
       "│ LzDaTmQYWcj ┆ Worm Infestation                ┆ [\"VmoPqzwBgkx\", \"E62UwxnYf26\",… │\n",
       "│ IUZ0GidX0jh ┆ Wounds/Trauma                   ┆ [\"JMKtVQ5HasH\", \"FJs8ZjlQE6f\",… │\n",
       "│ zmWJAEjfv59 ┆ Yaws                            ┆ [\"gQAAvbLx8MM\", \"plfo9ai1jtW\",… │\n",
       "│ HAraPb0v7ex ┆ Yellow Fever                    ┆ [\"XWU1Huh0Luy\", \"zSJF2b48kOg\",… │\n",
       "└─────────────┴─────────────────────────────────┴─────────────────────────────────┘"
      ]
     },
     "execution_count": 25,
     "metadata": {},
     "output_type": "execute_result"
    }
   ],
   "source": [
    "@_recorder.record(file_path=Path(responses_dir, \"get_data_element_groups.yaml\"))\n",
    "def test_get_data_element_groups(dhis2: DHIS2):\n",
    "    df = dataframe.get_data_element_groups(dhis2=dhis2)\n",
    "    assert len(df) > 20\n",
    "    expected_schema = pl.Schema({\"id\": pl.String, \"name\": pl.String, \"data_elements\": pl.List(pl.String)})\n",
    "    assert df.schema == expected_schema\n",
    "    return df\n",
    "\n",
    "\n",
    "df = test_get_data_element_groups(sle)\n",
    "df"
   ]
  },
  {
   "cell_type": "code",
   "execution_count": 26,
   "metadata": {},
   "outputs": [
    {
     "name": "stdout",
     "output_type": "stream",
     "text": [
      "shape: (84, 3)\n",
      "┌─────────────┬─────────────────────────────────┬─────────────────────────────────┐\n",
      "│ id          ┆ name                            ┆ data_elements                   │\n",
      "│ ---         ┆ ---                             ┆ ---                             │\n",
      "│ str         ┆ str                             ┆ list[str]                       │\n",
      "╞═════════════╪═════════════════════════════════╪═════════════════════════════════╡\n",
      "│ qfxEYY9xAl6 ┆ ANC                             ┆ [\"V37YqbqpEhV\", \"hfdmMSPBgLG\",… │\n",
      "│ yhg8oYU9ekY ┆ ARI Treated Without Antibiotic… ┆ [\"Cm4XUw6VAxv\", \"oLfWYAJhZb2\",… │\n",
      "│ M2cth8EmrlT ┆ ARI treated with antibiotics (… ┆ [\"iKGjnOOaPlE\", \"XTqOHygxDj5\",… │\n",
      "│ k1M0nuodfhN ┆ ART                             ┆ [\"wfKKFhBn0Q0\", \"ZgIaamZjBjz\",… │\n",
      "│ bdiyMm9qZl5 ┆ ART enrollment                  ┆ [\"FTy5pcJZ3yX\", \"I5MLuG16arn\",… │\n",
      "│ …           ┆ …                               ┆ …                               │\n",
      "│ U9wcARyKSzx ┆ VCCT                            ┆ [\"oxht1VLqF6x\", \"IpwsH1GUjCs\",… │\n",
      "│ LzDaTmQYWcj ┆ Worm Infestation                ┆ [\"VmoPqzwBgkx\", \"E62UwxnYf26\",… │\n",
      "│ IUZ0GidX0jh ┆ Wounds/Trauma                   ┆ [\"JMKtVQ5HasH\", \"FJs8ZjlQE6f\",… │\n",
      "│ zmWJAEjfv59 ┆ Yaws                            ┆ [\"gQAAvbLx8MM\", \"plfo9ai1jtW\",… │\n",
      "│ HAraPb0v7ex ┆ Yellow Fever                    ┆ [\"XWU1Huh0Luy\", \"zSJF2b48kOg\",… │\n",
      "└─────────────┴─────────────────────────────────┴─────────────────────────────────┘\n"
     ]
    }
   ],
   "source": [
    "print(df)"
   ]
  },
  {
   "cell_type": "code",
   "execution_count": 43,
   "metadata": {},
   "outputs": [
    {
     "name": "stderr",
     "output_type": "stream",
     "text": [
      "DEBUG:openhexa.toolbox.dhis2.api:API request http://localhost:8080/api/categoryOptionCombos?fields=id%2Cname&pageSize=1000\n"
     ]
    },
    {
     "data": {
      "text/html": [
       "<div><style>\n",
       ".dataframe > thead > tr,\n",
       ".dataframe > tbody > tr {\n",
       "  text-align: right;\n",
       "  white-space: pre-wrap;\n",
       "}\n",
       "</style>\n",
       "<small>shape: (225, 2)</small><table border=\"1\" class=\"dataframe\"><thead><tr><th>id</th><th>name</th></tr><tr><td>str</td><td>str</td></tr></thead><tbody><tr><td>&quot;S34ULMcHMca&quot;</td><td>&quot;0-11m&quot;</td></tr><tr><td>&quot;sqGRzCziswD&quot;</td><td>&quot;0-11m&quot;</td></tr><tr><td>&quot;o2gxEt6Ek2C&quot;</td><td>&quot;0-4y&quot;</td></tr><tr><td>&quot;LEDQQXEpWUl&quot;</td><td>&quot;12-59m&quot;</td></tr><tr><td>&quot;wHBMVthqIX4&quot;</td><td>&quot;12-59m&quot;</td></tr><tr><td>&hellip;</td><td>&hellip;</td></tr><tr><td>&quot;QjyqqJMm0X7&quot;</td><td>&quot;World Vision, Improve access t…</td></tr><tr><td>&quot;zBTkMNxXEvq&quot;</td><td>&quot;World Vision, Improve access t…</td></tr><tr><td>&quot;E5M2FZ1hReY&quot;</td><td>&quot;World Vision, Provide access t…</td></tr><tr><td>&quot;pN2UVP29cKQ&quot;</td><td>&quot;World Vision, Provide access t…</td></tr><tr><td>&quot;HllvX50cXC0&quot;</td><td>&quot;default&quot;</td></tr></tbody></table></div>"
      ],
      "text/plain": [
       "shape: (225, 2)\n",
       "┌─────────────┬─────────────────────────────────┐\n",
       "│ id          ┆ name                            │\n",
       "│ ---         ┆ ---                             │\n",
       "│ str         ┆ str                             │\n",
       "╞═════════════╪═════════════════════════════════╡\n",
       "│ S34ULMcHMca ┆ 0-11m                           │\n",
       "│ sqGRzCziswD ┆ 0-11m                           │\n",
       "│ o2gxEt6Ek2C ┆ 0-4y                            │\n",
       "│ LEDQQXEpWUl ┆ 12-59m                          │\n",
       "│ wHBMVthqIX4 ┆ 12-59m                          │\n",
       "│ …           ┆ …                               │\n",
       "│ QjyqqJMm0X7 ┆ World Vision, Improve access t… │\n",
       "│ zBTkMNxXEvq ┆ World Vision, Improve access t… │\n",
       "│ E5M2FZ1hReY ┆ World Vision, Provide access t… │\n",
       "│ pN2UVP29cKQ ┆ World Vision, Provide access t… │\n",
       "│ HllvX50cXC0 ┆ default                         │\n",
       "└─────────────┴─────────────────────────────────┘"
      ]
     },
     "execution_count": 43,
     "metadata": {},
     "output_type": "execute_result"
    }
   ],
   "source": [
    "@_recorder.record(file_path=Path(responses_dir, \"get_category_option_combos.yaml\"))\n",
    "def test_get_category_option_combos(dhis2: DHIS2):\n",
    "    df = dataframe.get_category_option_combos(dhis2=dhis2)\n",
    "    assert len(df) > 20\n",
    "    expected_schema = pl.Schema(\n",
    "        {\n",
    "            \"id\": pl.String,\n",
    "            \"name\": pl.String,\n",
    "        }\n",
    "    )\n",
    "    assert df.schema == expected_schema\n",
    "    return df\n",
    "\n",
    "\n",
    "df = test_get_category_option_combos(sle)\n",
    "df"
   ]
  },
  {
   "cell_type": "code",
   "execution_count": 27,
   "metadata": {},
   "outputs": [
    {
     "name": "stderr",
     "output_type": "stream",
     "text": [
      "DEBUG:openhexa.toolbox.dhis2.api:API request http://localhost:8080/api/filledOrganisationUnitLevels?fields=id%2Cname%2Clevel\n",
      "DEBUG:openhexa.toolbox.dhis2.api:API request http://localhost:8080/api/organisationUnits?fields=id%2Cname%2Clevel%2Cpath%2Cgeometry&filter=level%3Ale%3A2&pageSize=1000\n"
     ]
    },
    {
     "data": {
      "text/html": [
       "<div><style>\n",
       ".dataframe > thead > tr,\n",
       ".dataframe > tbody > tr {\n",
       "  text-align: right;\n",
       "  white-space: pre-wrap;\n",
       "}\n",
       "</style>\n",
       "<small>shape: (14, 8)</small><table border=\"1\" class=\"dataframe\"><thead><tr><th>id</th><th>name</th><th>level</th><th>level_1_id</th><th>level_1_name</th><th>level_2_id</th><th>level_2_name</th><th>geometry</th></tr><tr><td>str</td><td>str</td><td>i64</td><td>str</td><td>str</td><td>str</td><td>str</td><td>str</td></tr></thead><tbody><tr><td>&quot;ImspTQPwCqd&quot;</td><td>&quot;Sierra Leone&quot;</td><td>1</td><td>&quot;ImspTQPwCqd&quot;</td><td>&quot;Sierra Leone&quot;</td><td>null</td><td>null</td><td>null</td></tr><tr><td>&quot;O6uvpzGd5pu&quot;</td><td>&quot;Bo&quot;</td><td>2</td><td>&quot;ImspTQPwCqd&quot;</td><td>&quot;Sierra Leone&quot;</td><td>&quot;O6uvpzGd5pu&quot;</td><td>&quot;Bo&quot;</td><td>&quot;{&quot;type&quot;: &quot;Polygon&quot;, &quot;coordinat…</td></tr><tr><td>&quot;fdc6uOvgoji&quot;</td><td>&quot;Bombali&quot;</td><td>2</td><td>&quot;ImspTQPwCqd&quot;</td><td>&quot;Sierra Leone&quot;</td><td>&quot;fdc6uOvgoji&quot;</td><td>&quot;Bombali&quot;</td><td>&quot;{&quot;type&quot;: &quot;Polygon&quot;, &quot;coordinat…</td></tr><tr><td>&quot;lc3eMKXaEfw&quot;</td><td>&quot;Bonthe&quot;</td><td>2</td><td>&quot;ImspTQPwCqd&quot;</td><td>&quot;Sierra Leone&quot;</td><td>&quot;lc3eMKXaEfw&quot;</td><td>&quot;Bonthe&quot;</td><td>&quot;{&quot;type&quot;: &quot;MultiPolygon&quot;, &quot;coor…</td></tr><tr><td>&quot;jUb8gELQApl&quot;</td><td>&quot;Kailahun&quot;</td><td>2</td><td>&quot;ImspTQPwCqd&quot;</td><td>&quot;Sierra Leone&quot;</td><td>&quot;jUb8gELQApl&quot;</td><td>&quot;Kailahun&quot;</td><td>&quot;{&quot;type&quot;: &quot;Polygon&quot;, &quot;coordinat…</td></tr><tr><td>&hellip;</td><td>&hellip;</td><td>&hellip;</td><td>&hellip;</td><td>&hellip;</td><td>&hellip;</td><td>&hellip;</td><td>&hellip;</td></tr><tr><td>&quot;jmIPBj66vD6&quot;</td><td>&quot;Moyamba&quot;</td><td>2</td><td>&quot;ImspTQPwCqd&quot;</td><td>&quot;Sierra Leone&quot;</td><td>&quot;jmIPBj66vD6&quot;</td><td>&quot;Moyamba&quot;</td><td>&quot;{&quot;type&quot;: &quot;MultiPolygon&quot;, &quot;coor…</td></tr><tr><td>&quot;TEQlaapDQoK&quot;</td><td>&quot;Port Loko&quot;</td><td>2</td><td>&quot;ImspTQPwCqd&quot;</td><td>&quot;Sierra Leone&quot;</td><td>&quot;TEQlaapDQoK&quot;</td><td>&quot;Port Loko&quot;</td><td>&quot;{&quot;type&quot;: &quot;MultiPolygon&quot;, &quot;coor…</td></tr><tr><td>&quot;bL4ooGhyHRQ&quot;</td><td>&quot;Pujehun&quot;</td><td>2</td><td>&quot;ImspTQPwCqd&quot;</td><td>&quot;Sierra Leone&quot;</td><td>&quot;bL4ooGhyHRQ&quot;</td><td>&quot;Pujehun&quot;</td><td>&quot;{&quot;type&quot;: &quot;MultiPolygon&quot;, &quot;coor…</td></tr><tr><td>&quot;eIQbndfxQMb&quot;</td><td>&quot;Tonkolili&quot;</td><td>2</td><td>&quot;ImspTQPwCqd&quot;</td><td>&quot;Sierra Leone&quot;</td><td>&quot;eIQbndfxQMb&quot;</td><td>&quot;Tonkolili&quot;</td><td>&quot;{&quot;type&quot;: &quot;Polygon&quot;, &quot;coordinat…</td></tr><tr><td>&quot;at6UHUQatSo&quot;</td><td>&quot;Western Area&quot;</td><td>2</td><td>&quot;ImspTQPwCqd&quot;</td><td>&quot;Sierra Leone&quot;</td><td>&quot;at6UHUQatSo&quot;</td><td>&quot;Western Area&quot;</td><td>&quot;{&quot;type&quot;: &quot;MultiPolygon&quot;, &quot;coor…</td></tr></tbody></table></div>"
      ],
      "text/plain": [
       "shape: (14, 8)\n",
       "┌────────────┬────────────┬───────┬────────────┬────────────┬────────────┬────────────┬────────────┐\n",
       "│ id         ┆ name       ┆ level ┆ level_1_id ┆ level_1_na ┆ level_2_id ┆ level_2_na ┆ geometry   │\n",
       "│ ---        ┆ ---        ┆ ---   ┆ ---        ┆ me         ┆ ---        ┆ me         ┆ ---        │\n",
       "│ str        ┆ str        ┆ i64   ┆ str        ┆ ---        ┆ str        ┆ ---        ┆ str        │\n",
       "│            ┆            ┆       ┆            ┆ str        ┆            ┆ str        ┆            │\n",
       "╞════════════╪════════════╪═══════╪════════════╪════════════╪════════════╪════════════╪════════════╡\n",
       "│ ImspTQPwCq ┆ Sierra     ┆ 1     ┆ ImspTQPwCq ┆ Sierra     ┆ null       ┆ null       ┆ null       │\n",
       "│ d          ┆ Leone      ┆       ┆ d          ┆ Leone      ┆            ┆            ┆            │\n",
       "│ O6uvpzGd5p ┆ Bo         ┆ 2     ┆ ImspTQPwCq ┆ Sierra     ┆ O6uvpzGd5p ┆ Bo         ┆ {\"type\":   │\n",
       "│ u          ┆            ┆       ┆ d          ┆ Leone      ┆ u          ┆            ┆ \"Polygon\", │\n",
       "│            ┆            ┆       ┆            ┆            ┆            ┆            ┆ \"coordinat │\n",
       "│            ┆            ┆       ┆            ┆            ┆            ┆            ┆ …          │\n",
       "│ fdc6uOvgoj ┆ Bombali    ┆ 2     ┆ ImspTQPwCq ┆ Sierra     ┆ fdc6uOvgoj ┆ Bombali    ┆ {\"type\":   │\n",
       "│ i          ┆            ┆       ┆ d          ┆ Leone      ┆ i          ┆            ┆ \"Polygon\", │\n",
       "│            ┆            ┆       ┆            ┆            ┆            ┆            ┆ \"coordinat │\n",
       "│            ┆            ┆       ┆            ┆            ┆            ┆            ┆ …          │\n",
       "│ lc3eMKXaEf ┆ Bonthe     ┆ 2     ┆ ImspTQPwCq ┆ Sierra     ┆ lc3eMKXaEf ┆ Bonthe     ┆ {\"type\":   │\n",
       "│ w          ┆            ┆       ┆ d          ┆ Leone      ┆ w          ┆            ┆ \"MultiPoly │\n",
       "│            ┆            ┆       ┆            ┆            ┆            ┆            ┆ gon\",      │\n",
       "│            ┆            ┆       ┆            ┆            ┆            ┆            ┆ \"coor…     │\n",
       "│ jUb8gELQAp ┆ Kailahun   ┆ 2     ┆ ImspTQPwCq ┆ Sierra     ┆ jUb8gELQAp ┆ Kailahun   ┆ {\"type\":   │\n",
       "│ l          ┆            ┆       ┆ d          ┆ Leone      ┆ l          ┆            ┆ \"Polygon\", │\n",
       "│            ┆            ┆       ┆            ┆            ┆            ┆            ┆ \"coordinat │\n",
       "│            ┆            ┆       ┆            ┆            ┆            ┆            ┆ …          │\n",
       "│ …          ┆ …          ┆ …     ┆ …          ┆ …          ┆ …          ┆ …          ┆ …          │\n",
       "│ jmIPBj66vD ┆ Moyamba    ┆ 2     ┆ ImspTQPwCq ┆ Sierra     ┆ jmIPBj66vD ┆ Moyamba    ┆ {\"type\":   │\n",
       "│ 6          ┆            ┆       ┆ d          ┆ Leone      ┆ 6          ┆            ┆ \"MultiPoly │\n",
       "│            ┆            ┆       ┆            ┆            ┆            ┆            ┆ gon\",      │\n",
       "│            ┆            ┆       ┆            ┆            ┆            ┆            ┆ \"coor…     │\n",
       "│ TEQlaapDQo ┆ Port Loko  ┆ 2     ┆ ImspTQPwCq ┆ Sierra     ┆ TEQlaapDQo ┆ Port Loko  ┆ {\"type\":   │\n",
       "│ K          ┆            ┆       ┆ d          ┆ Leone      ┆ K          ┆            ┆ \"MultiPoly │\n",
       "│            ┆            ┆       ┆            ┆            ┆            ┆            ┆ gon\",      │\n",
       "│            ┆            ┆       ┆            ┆            ┆            ┆            ┆ \"coor…     │\n",
       "│ bL4ooGhyHR ┆ Pujehun    ┆ 2     ┆ ImspTQPwCq ┆ Sierra     ┆ bL4ooGhyHR ┆ Pujehun    ┆ {\"type\":   │\n",
       "│ Q          ┆            ┆       ┆ d          ┆ Leone      ┆ Q          ┆            ┆ \"MultiPoly │\n",
       "│            ┆            ┆       ┆            ┆            ┆            ┆            ┆ gon\",      │\n",
       "│            ┆            ┆       ┆            ┆            ┆            ┆            ┆ \"coor…     │\n",
       "│ eIQbndfxQM ┆ Tonkolili  ┆ 2     ┆ ImspTQPwCq ┆ Sierra     ┆ eIQbndfxQM ┆ Tonkolili  ┆ {\"type\":   │\n",
       "│ b          ┆            ┆       ┆ d          ┆ Leone      ┆ b          ┆            ┆ \"Polygon\", │\n",
       "│            ┆            ┆       ┆            ┆            ┆            ┆            ┆ \"coordinat │\n",
       "│            ┆            ┆       ┆            ┆            ┆            ┆            ┆ …          │\n",
       "│ at6UHUQatS ┆ Western    ┆ 2     ┆ ImspTQPwCq ┆ Sierra     ┆ at6UHUQatS ┆ Western    ┆ {\"type\":   │\n",
       "│ o          ┆ Area       ┆       ┆ d          ┆ Leone      ┆ o          ┆ Area       ┆ \"MultiPoly │\n",
       "│            ┆            ┆       ┆            ┆            ┆            ┆            ┆ gon\",      │\n",
       "│            ┆            ┆       ┆            ┆            ┆            ┆            ┆ \"coor…     │\n",
       "└────────────┴────────────┴───────┴────────────┴────────────┴────────────┴────────────┴────────────┘"
      ]
     },
     "execution_count": 27,
     "metadata": {},
     "output_type": "execute_result"
    }
   ],
   "source": [
    "@_recorder.record(file_path=Path(responses_dir, \"get_organisation_units.yaml\"))\n",
    "def test_get_organisation_units(dhis2: DHIS2):\n",
    "    df = dataframe.get_organisation_units(dhis2=dhis2, max_level=2)\n",
    "    assert len(df) > 2\n",
    "    expected_schema = pl.Schema(\n",
    "        {\n",
    "            \"id\": pl.String,\n",
    "            \"name\": pl.String,\n",
    "            \"level\": int,\n",
    "            \"level_1_id\": pl.String,\n",
    "            \"level_1_name\": pl.String,\n",
    "            \"level_2_id\": pl.String,\n",
    "            \"level_2_name\": pl.String,\n",
    "            \"geometry\": pl.String,\n",
    "        }\n",
    "    )\n",
    "    assert df.schema == expected_schema\n",
    "    return df\n",
    "\n",
    "\n",
    "df = test_get_organisation_units(sle)\n",
    "df"
   ]
  },
  {
   "cell_type": "code",
   "execution_count": 39,
   "metadata": {},
   "outputs": [
    {
     "name": "stderr",
     "output_type": "stream",
     "text": [
      "DEBUG:openhexa.toolbox.dhis2.api:API request http://localhost:8080/api/organisationUnitGroups?fields=id%2Cname%2CorganisationUnits&pageSize=1000\n"
     ]
    },
    {
     "data": {
      "text/html": [
       "<div><style>\n",
       ".dataframe > thead > tr,\n",
       ".dataframe > tbody > tr {\n",
       "  text-align: right;\n",
       "  white-space: pre-wrap;\n",
       "}\n",
       "</style>\n",
       "<small>shape: (18, 3)</small><table border=\"1\" class=\"dataframe\"><thead><tr><th>id</th><th>name</th><th>organisation_units</th></tr><tr><td>str</td><td>str</td><td>list[str]</td></tr></thead><tbody><tr><td>&quot;CXw2yu5fodb&quot;</td><td>&quot;CHC&quot;</td><td>[&quot;Mi4dWRtfIOC&quot;, &quot;EUUkKEDoNsf&quot;, … &quot;o0BgK1dLhF8&quot;]</td></tr><tr><td>&quot;uYxK4wmcPqA&quot;</td><td>&quot;CHP&quot;</td><td>[&quot;EQnfnY03sRp&quot;, &quot;ZpE2POxvl9P&quot;, … &quot;irVdYBmHBxs&quot;]</td></tr><tr><td>&quot;gzcv65VyaGq&quot;</td><td>&quot;Chiefdom&quot;</td><td>[&quot;r06ohri9wA9&quot;, &quot;Z9QaI6sxTwW&quot;, … &quot;GE25DpSrqpB&quot;]</td></tr><tr><td>&quot;RXL3lPSK8oG&quot;</td><td>&quot;Clinic&quot;</td><td>[&quot;LaxJ6CD2DHq&quot;, &quot;ctfiYW0ePJ8&quot;, … &quot;PD1fqyvJssC&quot;]</td></tr><tr><td>&quot;RpbiCJpIYEj&quot;</td><td>&quot;Country&quot;</td><td>[&quot;ImspTQPwCqd&quot;]</td></tr><tr><td>&hellip;</td><td>&hellip;</td><td>&hellip;</td></tr><tr><td>&quot;oRVt7g429ZO&quot;</td><td>&quot;Public facilities&quot;</td><td>[&quot;y77LiPqLMoq&quot;, &quot;rwfuVQHnZJ5&quot;, … &quot;VdXuxcNkiad&quot;]</td></tr><tr><td>&quot;GGghZsfu7qV&quot;</td><td>&quot;Rural&quot;</td><td>[&quot;EQnfnY03sRp&quot;, &quot;r06ohri9wA9&quot;, … &quot;GE25DpSrqpB&quot;]</td></tr><tr><td>&quot;jqBqIXoXpfy&quot;</td><td>&quot;Southern Area&quot;</td><td>[&quot;O6uvpzGd5pu&quot;, &quot;jmIPBj66vD6&quot;, &quot;lc3eMKXaEfw&quot;]</td></tr><tr><td>&quot;f25dqv3Y7Z0&quot;</td><td>&quot;Urban&quot;</td><td>[&quot;y77LiPqLMoq&quot;, &quot;Z9QaI6sxTwW&quot;, … &quot;VdXuxcNkiad&quot;]</td></tr><tr><td>&quot;b0EsAxm8Nge&quot;</td><td>&quot;Western Area&quot;</td><td>[&quot;at6UHUQatSo&quot;, &quot;TEQlaapDQoK&quot;, &quot;PMa2VCrupOd&quot;]</td></tr></tbody></table></div>"
      ],
      "text/plain": [
       "shape: (18, 3)\n",
       "┌─────────────┬───────────────────┬─────────────────────────────────┐\n",
       "│ id          ┆ name              ┆ organisation_units              │\n",
       "│ ---         ┆ ---               ┆ ---                             │\n",
       "│ str         ┆ str               ┆ list[str]                       │\n",
       "╞═════════════╪═══════════════════╪═════════════════════════════════╡\n",
       "│ CXw2yu5fodb ┆ CHC               ┆ [\"Mi4dWRtfIOC\", \"EUUkKEDoNsf\",… │\n",
       "│ uYxK4wmcPqA ┆ CHP               ┆ [\"EQnfnY03sRp\", \"ZpE2POxvl9P\",… │\n",
       "│ gzcv65VyaGq ┆ Chiefdom          ┆ [\"r06ohri9wA9\", \"Z9QaI6sxTwW\",… │\n",
       "│ RXL3lPSK8oG ┆ Clinic            ┆ [\"LaxJ6CD2DHq\", \"ctfiYW0ePJ8\",… │\n",
       "│ RpbiCJpIYEj ┆ Country           ┆ [\"ImspTQPwCqd\"]                 │\n",
       "│ …           ┆ …                 ┆ …                               │\n",
       "│ oRVt7g429ZO ┆ Public facilities ┆ [\"y77LiPqLMoq\", \"rwfuVQHnZJ5\",… │\n",
       "│ GGghZsfu7qV ┆ Rural             ┆ [\"EQnfnY03sRp\", \"r06ohri9wA9\",… │\n",
       "│ jqBqIXoXpfy ┆ Southern Area     ┆ [\"O6uvpzGd5pu\", \"jmIPBj66vD6\",… │\n",
       "│ f25dqv3Y7Z0 ┆ Urban             ┆ [\"y77LiPqLMoq\", \"Z9QaI6sxTwW\",… │\n",
       "│ b0EsAxm8Nge ┆ Western Area      ┆ [\"at6UHUQatSo\", \"TEQlaapDQoK\",… │\n",
       "└─────────────┴───────────────────┴─────────────────────────────────┘"
      ]
     },
     "execution_count": 39,
     "metadata": {},
     "output_type": "execute_result"
    }
   ],
   "source": [
    "@_recorder.record(file_path=Path(responses_dir, \"get_organisation_unit_groups.yaml\"))\n",
    "def test_get_organisation_unit_groups(dhis2: DHIS2):\n",
    "    df = dataframe.get_organisation_unit_groups(dhis2=dhis2)\n",
    "    assert len(df) > 10\n",
    "    expected_schema = pl.Schema({\"id\": pl.String, \"name\": pl.String, \"organisation_units\": pl.List(pl.String)})\n",
    "    assert df.schema == expected_schema\n",
    "    return df\n",
    "\n",
    "\n",
    "df = test_get_organisation_unit_groups(sle)\n",
    "df"
   ]
  },
  {
   "cell_type": "code",
   "execution_count": 13,
   "metadata": {},
   "outputs": [
    {
     "name": "stderr",
     "output_type": "stream",
     "text": [
      "DEBUG:openhexa.toolbox.dhis2.api:API request http://localhost:8080/api/filledOrganisationUnitLevels?fields=id%2Cname%2Clevel\n"
     ]
    },
    {
     "data": {
      "text/html": [
       "<div><style>\n",
       ".dataframe > thead > tr,\n",
       ".dataframe > tbody > tr {\n",
       "  text-align: right;\n",
       "  white-space: pre-wrap;\n",
       "}\n",
       "</style>\n",
       "<small>shape: (4, 3)</small><table border=\"1\" class=\"dataframe\"><thead><tr><th>id</th><th>name</th><th>level</th></tr><tr><td>str</td><td>str</td><td>i64</td></tr></thead><tbody><tr><td>&quot;H1KlN4QIauv&quot;</td><td>&quot;National&quot;</td><td>1</td></tr><tr><td>&quot;wjP19dkFeIk&quot;</td><td>&quot;District&quot;</td><td>2</td></tr><tr><td>&quot;tTUf91fCytl&quot;</td><td>&quot;Chiefdom&quot;</td><td>3</td></tr><tr><td>&quot;m9lBJogzE95&quot;</td><td>&quot;Facility&quot;</td><td>4</td></tr></tbody></table></div>"
      ],
      "text/plain": [
       "shape: (4, 3)\n",
       "┌─────────────┬──────────┬───────┐\n",
       "│ id          ┆ name     ┆ level │\n",
       "│ ---         ┆ ---      ┆ ---   │\n",
       "│ str         ┆ str      ┆ i64   │\n",
       "╞═════════════╪══════════╪═══════╡\n",
       "│ H1KlN4QIauv ┆ National ┆ 1     │\n",
       "│ wjP19dkFeIk ┆ District ┆ 2     │\n",
       "│ tTUf91fCytl ┆ Chiefdom ┆ 3     │\n",
       "│ m9lBJogzE95 ┆ Facility ┆ 4     │\n",
       "└─────────────┴──────────┴───────┘"
      ]
     },
     "execution_count": 13,
     "metadata": {},
     "output_type": "execute_result"
    }
   ],
   "source": [
    "@_recorder.record(file_path=Path(responses_dir, \"get_organisation_unit_levels.yaml\"))\n",
    "def test_get_organisation_unit_levels(dhis2: DHIS2):\n",
    "    df = dataframe.get_organisation_unit_levels(dhis2=dhis2)\n",
    "    assert len(df) == 4\n",
    "    expected_schema = pl.Schema({\"id\": pl.String, \"name\": pl.String, \"level\": int})\n",
    "    assert df.schema == expected_schema\n",
    "    return df\n",
    "\n",
    "\n",
    "df = test_get_organisation_unit_levels(sle)\n",
    "df"
   ]
  },
  {
   "cell_type": "code",
   "execution_count": 45,
   "metadata": {},
   "outputs": [
    {
     "name": "stderr",
     "output_type": "stream",
     "text": [
      "DEBUG:openhexa.toolbox.dhis2.api:API request http://localhost:8080/api/dataValueSets?dataSet=BfMAe6Itzgt&startDate=2022-07-01&endDate=2022-08-01&orgUnit=DiszpKrYNg8&children=False\n"
     ]
    },
    {
     "data": {
      "text/html": [
       "<div><style>\n",
       ".dataframe > thead > tr,\n",
       ".dataframe > tbody > tr {\n",
       "  text-align: right;\n",
       "  white-space: pre-wrap;\n",
       "}\n",
       "</style>\n",
       "<small>shape: (80, 8)</small><table border=\"1\" class=\"dataframe\"><thead><tr><th>data_element_id</th><th>period</th><th>organisation_unit_id</th><th>category_option_combo_id</th><th>attribute_option_combo_id</th><th>value</th><th>created</th><th>last_updated</th></tr><tr><td>str</td><td>str</td><td>str</td><td>str</td><td>str</td><td>str</td><td>datetime[ms, UTC]</td><td>datetime[ms, UTC]</td></tr></thead><tbody><tr><td>&quot;pikOziyCXbM&quot;</td><td>&quot;202207&quot;</td><td>&quot;DiszpKrYNg8&quot;</td><td>&quot;hEFKSsPV5et&quot;</td><td>&quot;HllvX50cXC0&quot;</td><td>&quot;22&quot;</td><td>2022-09-05 13:06:21 UTC</td><td>2013-09-27 00:00:00 UTC</td></tr><tr><td>&quot;pikOziyCXbM&quot;</td><td>&quot;202207&quot;</td><td>&quot;DiszpKrYNg8&quot;</td><td>&quot;V6L425pT3A0&quot;</td><td>&quot;HllvX50cXC0&quot;</td><td>&quot;10&quot;</td><td>2022-09-05 13:06:21 UTC</td><td>2010-08-06 00:00:00 UTC</td></tr><tr><td>&quot;pikOziyCXbM&quot;</td><td>&quot;202207&quot;</td><td>&quot;DiszpKrYNg8&quot;</td><td>&quot;psbwp3CQEhs&quot;</td><td>&quot;HllvX50cXC0&quot;</td><td>&quot;33&quot;</td><td>2022-09-05 13:06:21 UTC</td><td>2013-11-05 00:00:00 UTC</td></tr><tr><td>&quot;pikOziyCXbM&quot;</td><td>&quot;202207&quot;</td><td>&quot;DiszpKrYNg8&quot;</td><td>&quot;Prlt0C1RF0s&quot;</td><td>&quot;HllvX50cXC0&quot;</td><td>&quot;13&quot;</td><td>2022-09-05 13:06:21 UTC</td><td>2010-08-06 00:00:00 UTC</td></tr><tr><td>&quot;O05mAByOgAv&quot;</td><td>&quot;202207&quot;</td><td>&quot;DiszpKrYNg8&quot;</td><td>&quot;hEFKSsPV5et&quot;</td><td>&quot;HllvX50cXC0&quot;</td><td>&quot;25&quot;</td><td>2022-09-05 13:06:21 UTC</td><td>2013-09-27 00:00:00 UTC</td></tr><tr><td>&hellip;</td><td>&hellip;</td><td>&hellip;</td><td>&hellip;</td><td>&hellip;</td><td>&hellip;</td><td>&hellip;</td><td>&hellip;</td></tr><tr><td>&quot;ldGXl6SEdqf&quot;</td><td>&quot;202207&quot;</td><td>&quot;DiszpKrYNg8&quot;</td><td>&quot;Prlt0C1RF0s&quot;</td><td>&quot;HllvX50cXC0&quot;</td><td>&quot;18&quot;</td><td>2022-09-05 13:06:21 UTC</td><td>2010-08-06 00:00:00 UTC</td></tr><tr><td>&quot;tU7GixyHhsv&quot;</td><td>&quot;202207&quot;</td><td>&quot;DiszpKrYNg8&quot;</td><td>&quot;hEFKSsPV5et&quot;</td><td>&quot;HllvX50cXC0&quot;</td><td>&quot;3&quot;</td><td>2022-09-05 13:06:21 UTC</td><td>2013-09-27 00:00:00 UTC</td></tr><tr><td>&quot;tU7GixyHhsv&quot;</td><td>&quot;202207&quot;</td><td>&quot;DiszpKrYNg8&quot;</td><td>&quot;V6L425pT3A0&quot;</td><td>&quot;HllvX50cXC0&quot;</td><td>&quot;3&quot;</td><td>2022-09-05 13:06:21 UTC</td><td>2013-09-27 00:00:00 UTC</td></tr><tr><td>&quot;tU7GixyHhsv&quot;</td><td>&quot;202207&quot;</td><td>&quot;DiszpKrYNg8&quot;</td><td>&quot;psbwp3CQEhs&quot;</td><td>&quot;HllvX50cXC0&quot;</td><td>&quot;3&quot;</td><td>2022-09-05 13:06:21 UTC</td><td>2013-09-27 00:00:00 UTC</td></tr><tr><td>&quot;tU7GixyHhsv&quot;</td><td>&quot;202207&quot;</td><td>&quot;DiszpKrYNg8&quot;</td><td>&quot;Prlt0C1RF0s&quot;</td><td>&quot;HllvX50cXC0&quot;</td><td>&quot;3&quot;</td><td>2022-09-05 13:06:21 UTC</td><td>2013-09-27 00:00:00 UTC</td></tr></tbody></table></div>"
      ],
      "text/plain": [
       "shape: (80, 8)\n",
       "┌─────────────────┬────────┬─────────────────────┬────────────────────┬────────────────────┬───────┬──────────────┬──────────────┐\n",
       "│ data_element_id ┆ period ┆ organisation_unit_i ┆ category_option_co ┆ attribute_option_c ┆ value ┆ created      ┆ last_updated │\n",
       "│ ---             ┆ ---    ┆ d                   ┆ mbo_id             ┆ ombo_id            ┆ ---   ┆ ---          ┆ ---          │\n",
       "│ str             ┆ str    ┆ ---                 ┆ ---                ┆ ---                ┆ str   ┆ datetime[ms, ┆ datetime[ms, │\n",
       "│                 ┆        ┆ str                 ┆ str                ┆ str                ┆       ┆ UTC]         ┆ UTC]         │\n",
       "╞═════════════════╪════════╪═════════════════════╪════════════════════╪════════════════════╪═══════╪══════════════╪══════════════╡\n",
       "│ pikOziyCXbM     ┆ 202207 ┆ DiszpKrYNg8         ┆ hEFKSsPV5et        ┆ HllvX50cXC0        ┆ 22    ┆ 2022-09-05   ┆ 2013-09-27   │\n",
       "│                 ┆        ┆                     ┆                    ┆                    ┆       ┆ 13:06:21 UTC ┆ 00:00:00 UTC │\n",
       "│ pikOziyCXbM     ┆ 202207 ┆ DiszpKrYNg8         ┆ V6L425pT3A0        ┆ HllvX50cXC0        ┆ 10    ┆ 2022-09-05   ┆ 2010-08-06   │\n",
       "│                 ┆        ┆                     ┆                    ┆                    ┆       ┆ 13:06:21 UTC ┆ 00:00:00 UTC │\n",
       "│ pikOziyCXbM     ┆ 202207 ┆ DiszpKrYNg8         ┆ psbwp3CQEhs        ┆ HllvX50cXC0        ┆ 33    ┆ 2022-09-05   ┆ 2013-11-05   │\n",
       "│                 ┆        ┆                     ┆                    ┆                    ┆       ┆ 13:06:21 UTC ┆ 00:00:00 UTC │\n",
       "│ pikOziyCXbM     ┆ 202207 ┆ DiszpKrYNg8         ┆ Prlt0C1RF0s        ┆ HllvX50cXC0        ┆ 13    ┆ 2022-09-05   ┆ 2010-08-06   │\n",
       "│                 ┆        ┆                     ┆                    ┆                    ┆       ┆ 13:06:21 UTC ┆ 00:00:00 UTC │\n",
       "│ O05mAByOgAv     ┆ 202207 ┆ DiszpKrYNg8         ┆ hEFKSsPV5et        ┆ HllvX50cXC0        ┆ 25    ┆ 2022-09-05   ┆ 2013-09-27   │\n",
       "│                 ┆        ┆                     ┆                    ┆                    ┆       ┆ 13:06:21 UTC ┆ 00:00:00 UTC │\n",
       "│ …               ┆ …      ┆ …                   ┆ …                  ┆ …                  ┆ …     ┆ …            ┆ …            │\n",
       "│ ldGXl6SEdqf     ┆ 202207 ┆ DiszpKrYNg8         ┆ Prlt0C1RF0s        ┆ HllvX50cXC0        ┆ 18    ┆ 2022-09-05   ┆ 2010-08-06   │\n",
       "│                 ┆        ┆                     ┆                    ┆                    ┆       ┆ 13:06:21 UTC ┆ 00:00:00 UTC │\n",
       "│ tU7GixyHhsv     ┆ 202207 ┆ DiszpKrYNg8         ┆ hEFKSsPV5et        ┆ HllvX50cXC0        ┆ 3     ┆ 2022-09-05   ┆ 2013-09-27   │\n",
       "│                 ┆        ┆                     ┆                    ┆                    ┆       ┆ 13:06:21 UTC ┆ 00:00:00 UTC │\n",
       "│ tU7GixyHhsv     ┆ 202207 ┆ DiszpKrYNg8         ┆ V6L425pT3A0        ┆ HllvX50cXC0        ┆ 3     ┆ 2022-09-05   ┆ 2013-09-27   │\n",
       "│                 ┆        ┆                     ┆                    ┆                    ┆       ┆ 13:06:21 UTC ┆ 00:00:00 UTC │\n",
       "│ tU7GixyHhsv     ┆ 202207 ┆ DiszpKrYNg8         ┆ psbwp3CQEhs        ┆ HllvX50cXC0        ┆ 3     ┆ 2022-09-05   ┆ 2013-09-27   │\n",
       "│                 ┆        ┆                     ┆                    ┆                    ┆       ┆ 13:06:21 UTC ┆ 00:00:00 UTC │\n",
       "│ tU7GixyHhsv     ┆ 202207 ┆ DiszpKrYNg8         ┆ Prlt0C1RF0s        ┆ HllvX50cXC0        ┆ 3     ┆ 2022-09-05   ┆ 2013-09-27   │\n",
       "│                 ┆        ┆                     ┆                    ┆                    ┆       ┆ 13:06:21 UTC ┆ 00:00:00 UTC │\n",
       "└─────────────────┴────────┴─────────────────────┴────────────────────┴────────────────────┴───────┴──────────────┴──────────────┘"
      ]
     },
     "execution_count": 45,
     "metadata": {},
     "output_type": "execute_result"
    }
   ],
   "source": [
    "@_recorder.record(file_path=Path(responses_dir, \"extract_dataset.yaml\"))\n",
    "def test_extract_dataset(dhis2: DHIS2):\n",
    "    df = dataframe.extract_dataset(\n",
    "        dhis2=sle,\n",
    "        dataset=\"BfMAe6Itzgt\",\n",
    "        start_date=datetime(2022, 7, 1),\n",
    "        end_date=datetime(2022, 8, 1),\n",
    "        org_units=[\"DiszpKrYNg8\"],\n",
    "        include_children=False,\n",
    "    )\n",
    "    assert len(df) > 20\n",
    "    expected_schema = pl.Schema(\n",
    "        {\n",
    "            \"data_element_id\": pl.String,\n",
    "            \"period\": pl.String,\n",
    "            \"organisation_unit_id\": pl.String,\n",
    "            \"category_option_combo_id\": pl.String,\n",
    "            \"attribute_option_combo_id\": pl.String,\n",
    "            \"value\": pl.String,\n",
    "            \"created\": pl.Datetime(\"ms\", \"UTC\"),\n",
    "            \"last_updated\": pl.Datetime(\"ms\", \"UTC\"),\n",
    "        }\n",
    "    )\n",
    "    assert df.schema == expected_schema\n",
    "    return df\n",
    "\n",
    "\n",
    "df = test_extract_dataset(sle)\n",
    "df"
   ]
  },
  {
   "cell_type": "code",
   "execution_count": 64,
   "metadata": {},
   "outputs": [
    {
     "data": {
      "text/plain": [
       "polars.config.Config"
      ]
     },
     "execution_count": 64,
     "metadata": {},
     "output_type": "execute_result"
    }
   ],
   "source": [
    "pl.Config.set_tbl_width_chars(175)"
   ]
  },
  {
   "cell_type": "code",
   "execution_count": 65,
   "metadata": {},
   "outputs": [
    {
     "name": "stdout",
     "output_type": "stream",
     "text": [
      "shape: (80, 8)\n",
      "┌─────────────────┬────────┬──────────────────────┬──────────────────────────┬───────────────────────────┬───────┬─────────────────────────┬─────────────────────────┐\n",
      "│ data_element_id ┆ period ┆ organisation_unit_id ┆ category_option_combo_id ┆ attribute_option_combo_id ┆ value ┆ created                 ┆ last_updated            │\n",
      "│ ---             ┆ ---    ┆ ---                  ┆ ---                      ┆ ---                       ┆ ---   ┆ ---                     ┆ ---                     │\n",
      "│ str             ┆ str    ┆ str                  ┆ str                      ┆ str                       ┆ str   ┆ datetime[ms, UTC]       ┆ datetime[ms, UTC]       │\n",
      "╞═════════════════╪════════╪══════════════════════╪══════════════════════════╪═══════════════════════════╪═══════╪═════════════════════════╪═════════════════════════╡\n",
      "│ pikOziyCXbM     ┆ 202207 ┆ DiszpKrYNg8          ┆ hEFKSsPV5et              ┆ HllvX50cXC0               ┆ 22    ┆ 2022-09-05 13:06:21 UTC ┆ 2013-09-27 00:00:00 UTC │\n",
      "│ pikOziyCXbM     ┆ 202207 ┆ DiszpKrYNg8          ┆ V6L425pT3A0              ┆ HllvX50cXC0               ┆ 10    ┆ 2022-09-05 13:06:21 UTC ┆ 2010-08-06 00:00:00 UTC │\n",
      "│ pikOziyCXbM     ┆ 202207 ┆ DiszpKrYNg8          ┆ psbwp3CQEhs              ┆ HllvX50cXC0               ┆ 33    ┆ 2022-09-05 13:06:21 UTC ┆ 2013-11-05 00:00:00 UTC │\n",
      "│ pikOziyCXbM     ┆ 202207 ┆ DiszpKrYNg8          ┆ Prlt0C1RF0s              ┆ HllvX50cXC0               ┆ 13    ┆ 2022-09-05 13:06:21 UTC ┆ 2010-08-06 00:00:00 UTC │\n",
      "│ O05mAByOgAv     ┆ 202207 ┆ DiszpKrYNg8          ┆ hEFKSsPV5et              ┆ HllvX50cXC0               ┆ 25    ┆ 2022-09-05 13:06:21 UTC ┆ 2013-09-27 00:00:00 UTC │\n",
      "│ …               ┆ …      ┆ …                    ┆ …                        ┆ …                         ┆ …     ┆ …                       ┆ …                       │\n",
      "│ ldGXl6SEdqf     ┆ 202207 ┆ DiszpKrYNg8          ┆ Prlt0C1RF0s              ┆ HllvX50cXC0               ┆ 18    ┆ 2022-09-05 13:06:21 UTC ┆ 2010-08-06 00:00:00 UTC │\n",
      "│ tU7GixyHhsv     ┆ 202207 ┆ DiszpKrYNg8          ┆ hEFKSsPV5et              ┆ HllvX50cXC0               ┆ 3     ┆ 2022-09-05 13:06:21 UTC ┆ 2013-09-27 00:00:00 UTC │\n",
      "│ tU7GixyHhsv     ┆ 202207 ┆ DiszpKrYNg8          ┆ V6L425pT3A0              ┆ HllvX50cXC0               ┆ 3     ┆ 2022-09-05 13:06:21 UTC ┆ 2013-09-27 00:00:00 UTC │\n",
      "│ tU7GixyHhsv     ┆ 202207 ┆ DiszpKrYNg8          ┆ psbwp3CQEhs              ┆ HllvX50cXC0               ┆ 3     ┆ 2022-09-05 13:06:21 UTC ┆ 2013-09-27 00:00:00 UTC │\n",
      "│ tU7GixyHhsv     ┆ 202207 ┆ DiszpKrYNg8          ┆ Prlt0C1RF0s              ┆ HllvX50cXC0               ┆ 3     ┆ 2022-09-05 13:06:21 UTC ┆ 2013-09-27 00:00:00 UTC │\n",
      "└─────────────────┴────────┴──────────────────────┴──────────────────────────┴───────────────────────────┴───────┴─────────────────────────┴─────────────────────────┘\n"
     ]
    }
   ],
   "source": [
    "print(df)"
   ]
  },
  {
   "cell_type": "code",
   "execution_count": 66,
   "metadata": {},
   "outputs": [
    {
     "name": "stderr",
     "output_type": "stream",
     "text": [
      "DEBUG:openhexa.toolbox.dhis2.api:API request http://localhost:8080/api/dataValueSets?dataElementGroup=h9cuJOkOwY2&startDate=2020-11-01&endDate=2021-02-05&orgUnit=jPidqyo7cpF&children=True\n"
     ]
    },
    {
     "data": {
      "text/html": [
       "<div><style>\n",
       ".dataframe > thead > tr,\n",
       ".dataframe > tbody > tr {\n",
       "  text-align: right;\n",
       "  white-space: pre-wrap;\n",
       "}\n",
       "</style>\n",
       "<small>shape: (58, 8)</small><table border=\"1\" class=\"dataframe\"><thead><tr><th>data_element_id</th><th>period</th><th>organisation_unit_id</th><th>category_option_combo_id</th><th>attribute_option_combo_id</th><th>value</th><th>created</th><th>last_updated</th></tr><tr><td>str</td><td>str</td><td>str</td><td>str</td><td>str</td><td>str</td><td>datetime[ms, UTC]</td><td>datetime[ms, UTC]</td></tr></thead><tbody><tr><td>&quot;fClA2Erf6IO&quot;</td><td>&quot;202101&quot;</td><td>&quot;egjrZ1PHNtT&quot;</td><td>&quot;V6L425pT3A0&quot;</td><td>&quot;HllvX50cXC0&quot;</td><td>&quot;10&quot;</td><td>2022-09-05 13:06:21 UTC</td><td>2022-05-29 22:06:10 UTC</td></tr><tr><td>&quot;fClA2Erf6IO&quot;</td><td>&quot;202101&quot;</td><td>&quot;egjrZ1PHNtT&quot;</td><td>&quot;Prlt0C1RF0s&quot;</td><td>&quot;HllvX50cXC0&quot;</td><td>&quot;20&quot;</td><td>2022-09-05 13:06:21 UTC</td><td>2022-05-29 22:06:10 UTC</td></tr><tr><td>&quot;fClA2Erf6IO&quot;</td><td>&quot;202011&quot;</td><td>&quot;egjrZ1PHNtT&quot;</td><td>&quot;V6L425pT3A0&quot;</td><td>&quot;HllvX50cXC0&quot;</td><td>&quot;33&quot;</td><td>2022-09-05 13:06:21 UTC</td><td>2022-05-29 22:18:44 UTC</td></tr><tr><td>&quot;fClA2Erf6IO&quot;</td><td>&quot;202011&quot;</td><td>&quot;egjrZ1PHNtT&quot;</td><td>&quot;Prlt0C1RF0s&quot;</td><td>&quot;HllvX50cXC0&quot;</td><td>&quot;36&quot;</td><td>2022-09-05 13:06:21 UTC</td><td>2022-05-29 22:18:44 UTC</td></tr><tr><td>&quot;fClA2Erf6IO&quot;</td><td>&quot;202012&quot;</td><td>&quot;egjrZ1PHNtT&quot;</td><td>&quot;V6L425pT3A0&quot;</td><td>&quot;HllvX50cXC0&quot;</td><td>&quot;12&quot;</td><td>2022-09-05 13:06:21 UTC</td><td>2022-05-29 22:18:44 UTC</td></tr><tr><td>&hellip;</td><td>&hellip;</td><td>&hellip;</td><td>&hellip;</td><td>&hellip;</td><td>&hellip;</td><td>&hellip;</td><td>&hellip;</td></tr><tr><td>&quot;vI2csg55S9C&quot;</td><td>&quot;202101&quot;</td><td>&quot;egjrZ1PHNtT&quot;</td><td>&quot;Prlt0C1RF0s&quot;</td><td>&quot;HllvX50cXC0&quot;</td><td>&quot;13&quot;</td><td>2022-09-05 13:06:21 UTC</td><td>2022-05-29 22:06:10 UTC</td></tr><tr><td>&quot;vI2csg55S9C&quot;</td><td>&quot;202011&quot;</td><td>&quot;egjrZ1PHNtT&quot;</td><td>&quot;V6L425pT3A0&quot;</td><td>&quot;HllvX50cXC0&quot;</td><td>&quot;11&quot;</td><td>2022-09-05 13:06:21 UTC</td><td>2022-05-29 22:18:44 UTC</td></tr><tr><td>&quot;vI2csg55S9C&quot;</td><td>&quot;202011&quot;</td><td>&quot;egjrZ1PHNtT&quot;</td><td>&quot;Prlt0C1RF0s&quot;</td><td>&quot;HllvX50cXC0&quot;</td><td>&quot;15&quot;</td><td>2022-09-05 13:06:21 UTC</td><td>2022-05-29 22:18:44 UTC</td></tr><tr><td>&quot;vI2csg55S9C&quot;</td><td>&quot;202012&quot;</td><td>&quot;egjrZ1PHNtT&quot;</td><td>&quot;V6L425pT3A0&quot;</td><td>&quot;HllvX50cXC0&quot;</td><td>&quot;7&quot;</td><td>2022-09-05 13:06:21 UTC</td><td>2022-05-29 22:18:44 UTC</td></tr><tr><td>&quot;vI2csg55S9C&quot;</td><td>&quot;202012&quot;</td><td>&quot;egjrZ1PHNtT&quot;</td><td>&quot;Prlt0C1RF0s&quot;</td><td>&quot;HllvX50cXC0&quot;</td><td>&quot;27&quot;</td><td>2022-09-05 13:06:21 UTC</td><td>2022-05-29 22:18:44 UTC</td></tr></tbody></table></div>"
      ],
      "text/plain": [
       "shape: (58, 8)\n",
       "┌─────────────────┬────────┬──────────────────────┬──────────────────────────┬───────────────────────────┬───────┬─────────────────────────┬─────────────────────────┐\n",
       "│ data_element_id ┆ period ┆ organisation_unit_id ┆ category_option_combo_id ┆ attribute_option_combo_id ┆ value ┆ created                 ┆ last_updated            │\n",
       "│ ---             ┆ ---    ┆ ---                  ┆ ---                      ┆ ---                       ┆ ---   ┆ ---                     ┆ ---                     │\n",
       "│ str             ┆ str    ┆ str                  ┆ str                      ┆ str                       ┆ str   ┆ datetime[ms, UTC]       ┆ datetime[ms, UTC]       │\n",
       "╞═════════════════╪════════╪══════════════════════╪══════════════════════════╪═══════════════════════════╪═══════╪═════════════════════════╪═════════════════════════╡\n",
       "│ fClA2Erf6IO     ┆ 202101 ┆ egjrZ1PHNtT          ┆ V6L425pT3A0              ┆ HllvX50cXC0               ┆ 10    ┆ 2022-09-05 13:06:21 UTC ┆ 2022-05-29 22:06:10 UTC │\n",
       "│ fClA2Erf6IO     ┆ 202101 ┆ egjrZ1PHNtT          ┆ Prlt0C1RF0s              ┆ HllvX50cXC0               ┆ 20    ┆ 2022-09-05 13:06:21 UTC ┆ 2022-05-29 22:06:10 UTC │\n",
       "│ fClA2Erf6IO     ┆ 202011 ┆ egjrZ1PHNtT          ┆ V6L425pT3A0              ┆ HllvX50cXC0               ┆ 33    ┆ 2022-09-05 13:06:21 UTC ┆ 2022-05-29 22:18:44 UTC │\n",
       "│ fClA2Erf6IO     ┆ 202011 ┆ egjrZ1PHNtT          ┆ Prlt0C1RF0s              ┆ HllvX50cXC0               ┆ 36    ┆ 2022-09-05 13:06:21 UTC ┆ 2022-05-29 22:18:44 UTC │\n",
       "│ fClA2Erf6IO     ┆ 202012 ┆ egjrZ1PHNtT          ┆ V6L425pT3A0              ┆ HllvX50cXC0               ┆ 12    ┆ 2022-09-05 13:06:21 UTC ┆ 2022-05-29 22:18:44 UTC │\n",
       "│ …               ┆ …      ┆ …                    ┆ …                        ┆ …                         ┆ …     ┆ …                       ┆ …                       │\n",
       "│ vI2csg55S9C     ┆ 202101 ┆ egjrZ1PHNtT          ┆ Prlt0C1RF0s              ┆ HllvX50cXC0               ┆ 13    ┆ 2022-09-05 13:06:21 UTC ┆ 2022-05-29 22:06:10 UTC │\n",
       "│ vI2csg55S9C     ┆ 202011 ┆ egjrZ1PHNtT          ┆ V6L425pT3A0              ┆ HllvX50cXC0               ┆ 11    ┆ 2022-09-05 13:06:21 UTC ┆ 2022-05-29 22:18:44 UTC │\n",
       "│ vI2csg55S9C     ┆ 202011 ┆ egjrZ1PHNtT          ┆ Prlt0C1RF0s              ┆ HllvX50cXC0               ┆ 15    ┆ 2022-09-05 13:06:21 UTC ┆ 2022-05-29 22:18:44 UTC │\n",
       "│ vI2csg55S9C     ┆ 202012 ┆ egjrZ1PHNtT          ┆ V6L425pT3A0              ┆ HllvX50cXC0               ┆ 7     ┆ 2022-09-05 13:06:21 UTC ┆ 2022-05-29 22:18:44 UTC │\n",
       "│ vI2csg55S9C     ┆ 202012 ┆ egjrZ1PHNtT          ┆ Prlt0C1RF0s              ┆ HllvX50cXC0               ┆ 27    ┆ 2022-09-05 13:06:21 UTC ┆ 2022-05-29 22:18:44 UTC │\n",
       "└─────────────────┴────────┴──────────────────────┴──────────────────────────┴───────────────────────────┴───────┴─────────────────────────┴─────────────────────────┘"
      ]
     },
     "execution_count": 66,
     "metadata": {},
     "output_type": "execute_result"
    }
   ],
   "source": [
    "@_recorder.record(file_path=Path(responses_dir, \"extract_data_element_group.yaml\"))\n",
    "def test_extract_data_element_group(dhis2: DHIS2):\n",
    "    df = dataframe.extract_data_element_group(\n",
    "        sle,\n",
    "        \"h9cuJOkOwY2\",\n",
    "        start_date=datetime(2020, 11, 1),\n",
    "        end_date=datetime(2021, 2, 5),\n",
    "        org_units=\"jPidqyo7cpF\",\n",
    "        include_children=True,\n",
    "    )\n",
    "    assert len(df) > 10\n",
    "    expected_schema = pl.Schema(\n",
    "        {\n",
    "            \"data_element_id\": pl.String,\n",
    "            \"period\": pl.String,\n",
    "            \"organisation_unit_id\": pl.String,\n",
    "            \"category_option_combo_id\": pl.String,\n",
    "            \"attribute_option_combo_id\": pl.String,\n",
    "            \"value\": pl.String,\n",
    "            \"created\": pl.Datetime(\"ms\", \"UTC\"),\n",
    "            \"last_updated\": pl.Datetime(\"ms\", \"UTC\"),\n",
    "        }\n",
    "    )\n",
    "    assert df.schema == expected_schema\n",
    "    return df\n",
    "\n",
    "\n",
    "df = test_extract_data_element_group(sle)\n",
    "df"
   ]
  },
  {
   "cell_type": "code",
   "execution_count": 68,
   "metadata": {},
   "outputs": [
    {
     "name": "stderr",
     "output_type": "stream",
     "text": [
      "DEBUG:openhexa.toolbox.dhis2.api:API request http://localhost:8080/api/dataValueSets?dataElement=pikOziyCXbM&dataElement=x3Do5e7g4Qo&startDate=2020-11-01&endDate=2021-02-05&orgUnit=vELbGdEphPd&orgUnit=UugO8xDeLQD&children=False\n"
     ]
    },
    {
     "data": {
      "text/html": [
       "<div><style>\n",
       ".dataframe > thead > tr,\n",
       ".dataframe > tbody > tr {\n",
       "  text-align: right;\n",
       "  white-space: pre-wrap;\n",
       "}\n",
       "</style>\n",
       "<small>shape: (9, 8)</small><table border=\"1\" class=\"dataframe\"><thead><tr><th>data_element_id</th><th>period</th><th>organisation_unit_id</th><th>category_option_combo_id</th><th>attribute_option_combo_id</th><th>value</th><th>created</th><th>last_updated</th></tr><tr><td>str</td><td>str</td><td>str</td><td>str</td><td>str</td><td>str</td><td>datetime[ms, UTC]</td><td>datetime[ms, UTC]</td></tr></thead><tbody><tr><td>&quot;pikOziyCXbM&quot;</td><td>&quot;202101&quot;</td><td>&quot;vELbGdEphPd&quot;</td><td>&quot;Prlt0C1RF0s&quot;</td><td>&quot;HllvX50cXC0&quot;</td><td>&quot;23&quot;</td><td>2022-09-05 13:06:21 UTC</td><td>2010-02-27 00:00:00 UTC</td></tr><tr><td>&quot;pikOziyCXbM&quot;</td><td>&quot;202011&quot;</td><td>&quot;vELbGdEphPd&quot;</td><td>&quot;V6L425pT3A0&quot;</td><td>&quot;HllvX50cXC0&quot;</td><td>&quot;6&quot;</td><td>2022-09-05 13:06:21 UTC</td><td>2010-12-09 00:00:00 UTC</td></tr><tr><td>&quot;pikOziyCXbM&quot;</td><td>&quot;202011&quot;</td><td>&quot;vELbGdEphPd&quot;</td><td>&quot;Prlt0C1RF0s&quot;</td><td>&quot;HllvX50cXC0&quot;</td><td>&quot;20&quot;</td><td>2022-09-05 13:06:21 UTC</td><td>2010-12-09 00:00:00 UTC</td></tr><tr><td>&quot;pikOziyCXbM&quot;</td><td>&quot;202012&quot;</td><td>&quot;vELbGdEphPd&quot;</td><td>&quot;V6L425pT3A0&quot;</td><td>&quot;HllvX50cXC0&quot;</td><td>&quot;6&quot;</td><td>2022-09-05 13:06:21 UTC</td><td>2011-01-11 00:00:00 UTC</td></tr><tr><td>&quot;pikOziyCXbM&quot;</td><td>&quot;202012&quot;</td><td>&quot;vELbGdEphPd&quot;</td><td>&quot;Prlt0C1RF0s&quot;</td><td>&quot;HllvX50cXC0&quot;</td><td>&quot;16&quot;</td><td>2022-09-05 13:06:21 UTC</td><td>2011-01-08 00:00:00 UTC</td></tr><tr><td>&quot;x3Do5e7g4Qo&quot;</td><td>&quot;202101&quot;</td><td>&quot;vELbGdEphPd&quot;</td><td>&quot;Prlt0C1RF0s&quot;</td><td>&quot;HllvX50cXC0&quot;</td><td>&quot;23&quot;</td><td>2022-09-05 13:06:21 UTC</td><td>2010-02-27 00:00:00 UTC</td></tr><tr><td>&quot;x3Do5e7g4Qo&quot;</td><td>&quot;202011&quot;</td><td>&quot;vELbGdEphPd&quot;</td><td>&quot;Prlt0C1RF0s&quot;</td><td>&quot;HllvX50cXC0&quot;</td><td>&quot;22&quot;</td><td>2022-09-05 13:06:21 UTC</td><td>2010-12-09 00:00:00 UTC</td></tr><tr><td>&quot;x3Do5e7g4Qo&quot;</td><td>&quot;202012&quot;</td><td>&quot;vELbGdEphPd&quot;</td><td>&quot;V6L425pT3A0&quot;</td><td>&quot;HllvX50cXC0&quot;</td><td>&quot;5&quot;</td><td>2022-09-05 13:06:21 UTC</td><td>2011-01-08 00:00:00 UTC</td></tr><tr><td>&quot;x3Do5e7g4Qo&quot;</td><td>&quot;202012&quot;</td><td>&quot;vELbGdEphPd&quot;</td><td>&quot;Prlt0C1RF0s&quot;</td><td>&quot;HllvX50cXC0&quot;</td><td>&quot;30&quot;</td><td>2022-09-05 13:06:21 UTC</td><td>2011-01-08 00:00:00 UTC</td></tr></tbody></table></div>"
      ],
      "text/plain": [
       "shape: (9, 8)\n",
       "┌─────────────────┬────────┬──────────────────────┬──────────────────────────┬───────────────────────────┬───────┬─────────────────────────┬─────────────────────────┐\n",
       "│ data_element_id ┆ period ┆ organisation_unit_id ┆ category_option_combo_id ┆ attribute_option_combo_id ┆ value ┆ created                 ┆ last_updated            │\n",
       "│ ---             ┆ ---    ┆ ---                  ┆ ---                      ┆ ---                       ┆ ---   ┆ ---                     ┆ ---                     │\n",
       "│ str             ┆ str    ┆ str                  ┆ str                      ┆ str                       ┆ str   ┆ datetime[ms, UTC]       ┆ datetime[ms, UTC]       │\n",
       "╞═════════════════╪════════╪══════════════════════╪══════════════════════════╪═══════════════════════════╪═══════╪═════════════════════════╪═════════════════════════╡\n",
       "│ pikOziyCXbM     ┆ 202101 ┆ vELbGdEphPd          ┆ Prlt0C1RF0s              ┆ HllvX50cXC0               ┆ 23    ┆ 2022-09-05 13:06:21 UTC ┆ 2010-02-27 00:00:00 UTC │\n",
       "│ pikOziyCXbM     ┆ 202011 ┆ vELbGdEphPd          ┆ V6L425pT3A0              ┆ HllvX50cXC0               ┆ 6     ┆ 2022-09-05 13:06:21 UTC ┆ 2010-12-09 00:00:00 UTC │\n",
       "│ pikOziyCXbM     ┆ 202011 ┆ vELbGdEphPd          ┆ Prlt0C1RF0s              ┆ HllvX50cXC0               ┆ 20    ┆ 2022-09-05 13:06:21 UTC ┆ 2010-12-09 00:00:00 UTC │\n",
       "│ pikOziyCXbM     ┆ 202012 ┆ vELbGdEphPd          ┆ V6L425pT3A0              ┆ HllvX50cXC0               ┆ 6     ┆ 2022-09-05 13:06:21 UTC ┆ 2011-01-11 00:00:00 UTC │\n",
       "│ pikOziyCXbM     ┆ 202012 ┆ vELbGdEphPd          ┆ Prlt0C1RF0s              ┆ HllvX50cXC0               ┆ 16    ┆ 2022-09-05 13:06:21 UTC ┆ 2011-01-08 00:00:00 UTC │\n",
       "│ x3Do5e7g4Qo     ┆ 202101 ┆ vELbGdEphPd          ┆ Prlt0C1RF0s              ┆ HllvX50cXC0               ┆ 23    ┆ 2022-09-05 13:06:21 UTC ┆ 2010-02-27 00:00:00 UTC │\n",
       "│ x3Do5e7g4Qo     ┆ 202011 ┆ vELbGdEphPd          ┆ Prlt0C1RF0s              ┆ HllvX50cXC0               ┆ 22    ┆ 2022-09-05 13:06:21 UTC ┆ 2010-12-09 00:00:00 UTC │\n",
       "│ x3Do5e7g4Qo     ┆ 202012 ┆ vELbGdEphPd          ┆ V6L425pT3A0              ┆ HllvX50cXC0               ┆ 5     ┆ 2022-09-05 13:06:21 UTC ┆ 2011-01-08 00:00:00 UTC │\n",
       "│ x3Do5e7g4Qo     ┆ 202012 ┆ vELbGdEphPd          ┆ Prlt0C1RF0s              ┆ HllvX50cXC0               ┆ 30    ┆ 2022-09-05 13:06:21 UTC ┆ 2011-01-08 00:00:00 UTC │\n",
       "└─────────────────┴────────┴──────────────────────┴──────────────────────────┴───────────────────────────┴───────┴─────────────────────────┴─────────────────────────┘"
      ]
     },
     "execution_count": 68,
     "metadata": {},
     "output_type": "execute_result"
    }
   ],
   "source": [
    "@_recorder.record(file_path=Path(responses_dir, \"extract_data_elements.yaml\"))\n",
    "def test_extract_data_elements(dhis2: DHIS2):\n",
    "    df = dataframe.extract_data_elements(\n",
    "        sle,\n",
    "        [\"pikOziyCXbM\", \"x3Do5e7g4Qo\"],\n",
    "        start_date=datetime(2020, 11, 1),\n",
    "        end_date=datetime(2021, 2, 5),\n",
    "        org_units=[\"vELbGdEphPd\", \"UugO8xDeLQD\"],\n",
    "    )\n",
    "    assert len(df) > 5\n",
    "    expected_schema = pl.Schema(\n",
    "        {\n",
    "            \"data_element_id\": pl.String,\n",
    "            \"period\": pl.String,\n",
    "            \"organisation_unit_id\": pl.String,\n",
    "            \"category_option_combo_id\": pl.String,\n",
    "            \"attribute_option_combo_id\": pl.String,\n",
    "            \"value\": pl.String,\n",
    "            \"created\": pl.Datetime(\"ms\", \"UTC\"),\n",
    "            \"last_updated\": pl.Datetime(\"ms\", \"UTC\"),\n",
    "        }\n",
    "    )\n",
    "    assert df.schema == expected_schema\n",
    "    assert df.null_count().sum_horizontal().item() == 0\n",
    "    return df\n",
    "\n",
    "\n",
    "df = test_extract_data_elements(sle)\n",
    "df"
   ]
  },
  {
   "cell_type": "code",
   "execution_count": 70,
   "metadata": {},
   "outputs": [
    {
     "name": "stderr",
     "output_type": "stream",
     "text": [
      "DEBUG:openhexa.toolbox.dhis2.api:API request http://localhost:8080/api/analytics?dimension=dx%3ApikOziyCXbM%3Bx3Do5e7g4Qo&dimension=ou%3ALEVEL-2&dimension=pe%3A2021&dimension=co%3A&paging=True&ignoreLimit=True&pageSize=1000\n"
     ]
    },
    {
     "data": {
      "text/html": [
       "<div><style>\n",
       ".dataframe > thead > tr,\n",
       ".dataframe > tbody > tr {\n",
       "  text-align: right;\n",
       "  white-space: pre-wrap;\n",
       "}\n",
       "</style>\n",
       "<small>shape: (78, 5)</small><table border=\"1\" class=\"dataframe\"><thead><tr><th>data_element_id</th><th>category_option_combo_id</th><th>organisation_unit_id</th><th>period</th><th>value</th></tr><tr><td>str</td><td>str</td><td>str</td><td>str</td><td>str</td></tr></thead><tbody><tr><td>&quot;pikOziyCXbM&quot;</td><td>&quot;psbwp3CQEhs&quot;</td><td>&quot;O6uvpzGd5pu&quot;</td><td>&quot;2021&quot;</td><td>&quot;44&quot;</td></tr><tr><td>&quot;x3Do5e7g4Qo&quot;</td><td>&quot;Prlt0C1RF0s&quot;</td><td>&quot;jmIPBj66vD6&quot;</td><td>&quot;2021&quot;</td><td>&quot;3296&quot;</td></tr><tr><td>&quot;pikOziyCXbM&quot;</td><td>&quot;Prlt0C1RF0s&quot;</td><td>&quot;lc3eMKXaEfw&quot;</td><td>&quot;2021&quot;</td><td>&quot;1279&quot;</td></tr><tr><td>&quot;x3Do5e7g4Qo&quot;</td><td>&quot;Prlt0C1RF0s&quot;</td><td>&quot;fdc6uOvgoji&quot;</td><td>&quot;2021&quot;</td><td>&quot;3333&quot;</td></tr><tr><td>&quot;pikOziyCXbM&quot;</td><td>&quot;hEFKSsPV5et&quot;</td><td>&quot;kJq2mPyFEHo&quot;</td><td>&quot;2021&quot;</td><td>&quot;255&quot;</td></tr><tr><td>&hellip;</td><td>&hellip;</td><td>&hellip;</td><td>&hellip;</td><td>&hellip;</td></tr><tr><td>&quot;pikOziyCXbM&quot;</td><td>&quot;psbwp3CQEhs&quot;</td><td>&quot;PMa2VCrupOd&quot;</td><td>&quot;2021&quot;</td><td>&quot;3&quot;</td></tr><tr><td>&quot;pikOziyCXbM&quot;</td><td>&quot;V6L425pT3A0&quot;</td><td>&quot;eIQbndfxQMb&quot;</td><td>&quot;2021&quot;</td><td>&quot;953&quot;</td></tr><tr><td>&quot;pikOziyCXbM&quot;</td><td>&quot;hEFKSsPV5et&quot;</td><td>&quot;TEQlaapDQoK&quot;</td><td>&quot;2021&quot;</td><td>&quot;30&quot;</td></tr><tr><td>&quot;pikOziyCXbM&quot;</td><td>&quot;hEFKSsPV5et&quot;</td><td>&quot;fdc6uOvgoji&quot;</td><td>&quot;2021&quot;</td><td>&quot;47&quot;</td></tr><tr><td>&quot;pikOziyCXbM&quot;</td><td>&quot;Prlt0C1RF0s&quot;</td><td>&quot;jmIPBj66vD6&quot;</td><td>&quot;2021&quot;</td><td>&quot;3376&quot;</td></tr></tbody></table></div>"
      ],
      "text/plain": [
       "shape: (78, 5)\n",
       "┌─────────────────┬──────────────────────────┬──────────────────────┬────────┬───────┐\n",
       "│ data_element_id ┆ category_option_combo_id ┆ organisation_unit_id ┆ period ┆ value │\n",
       "│ ---             ┆ ---                      ┆ ---                  ┆ ---    ┆ ---   │\n",
       "│ str             ┆ str                      ┆ str                  ┆ str    ┆ str   │\n",
       "╞═════════════════╪══════════════════════════╪══════════════════════╪════════╪═══════╡\n",
       "│ pikOziyCXbM     ┆ psbwp3CQEhs              ┆ O6uvpzGd5pu          ┆ 2021   ┆ 44    │\n",
       "│ x3Do5e7g4Qo     ┆ Prlt0C1RF0s              ┆ jmIPBj66vD6          ┆ 2021   ┆ 3296  │\n",
       "│ pikOziyCXbM     ┆ Prlt0C1RF0s              ┆ lc3eMKXaEfw          ┆ 2021   ┆ 1279  │\n",
       "│ x3Do5e7g4Qo     ┆ Prlt0C1RF0s              ┆ fdc6uOvgoji          ┆ 2021   ┆ 3333  │\n",
       "│ pikOziyCXbM     ┆ hEFKSsPV5et              ┆ kJq2mPyFEHo          ┆ 2021   ┆ 255   │\n",
       "│ …               ┆ …                        ┆ …                    ┆ …      ┆ …     │\n",
       "│ pikOziyCXbM     ┆ psbwp3CQEhs              ┆ PMa2VCrupOd          ┆ 2021   ┆ 3     │\n",
       "│ pikOziyCXbM     ┆ V6L425pT3A0              ┆ eIQbndfxQMb          ┆ 2021   ┆ 953   │\n",
       "│ pikOziyCXbM     ┆ hEFKSsPV5et              ┆ TEQlaapDQoK          ┆ 2021   ┆ 30    │\n",
       "│ pikOziyCXbM     ┆ hEFKSsPV5et              ┆ fdc6uOvgoji          ┆ 2021   ┆ 47    │\n",
       "│ pikOziyCXbM     ┆ Prlt0C1RF0s              ┆ jmIPBj66vD6          ┆ 2021   ┆ 3376  │\n",
       "└─────────────────┴──────────────────────────┴──────────────────────┴────────┴───────┘"
      ]
     },
     "execution_count": 70,
     "metadata": {},
     "output_type": "execute_result"
    }
   ],
   "source": [
    "@_recorder.record(file_path=Path(responses_dir, \"extract_analytics.yaml\"))\n",
    "def test_extract_analytics(dhis2: DHIS2):\n",
    "    df = dataframe.extract_analytics(\n",
    "        sle, periods=[\"2021\"], data_elements=[\"pikOziyCXbM\", \"x3Do5e7g4Qo\"], org_unit_levels=[2]\n",
    "    )\n",
    "    assert len(df) > 50\n",
    "    expected_schema = pl.Schema(\n",
    "        {\n",
    "            \"data_element_id\": pl.String,\n",
    "            \"category_option_combo_id\": pl.String,\n",
    "            \"organisation_unit_id\": pl.String,\n",
    "            \"period\": pl.String,\n",
    "            \"value\": pl.String,\n",
    "        }\n",
    "    )\n",
    "    assert df.schema == expected_schema\n",
    "    assert df.null_count().sum_horizontal().item() == 0\n",
    "    return df\n",
    "\n",
    "\n",
    "df = test_extract_analytics(sle)\n",
    "df"
   ]
  },
  {
   "cell_type": "code",
   "execution_count": 19,
   "metadata": {},
   "outputs": [
    {
     "name": "stderr",
     "output_type": "stream",
     "text": [
      "DEBUG:openhexa.toolbox.dhis2.dataframe:Dropped 0 rows with null values\n"
     ]
    },
    {
     "data": {
      "text/plain": [
       "{'imported': 2, 'updated': 0, 'ignored': 0, 'deleted': 0}"
      ]
     },
     "execution_count": 19,
     "metadata": {},
     "output_type": "execute_result"
    }
   ],
   "source": [
    "@_recorder.record(file_path=Path(responses_dir, \"import_data_values.yaml\"))\n",
    "def test_import_data_values(dhis2: DHIS2):\n",
    "    df = pl.DataFrame(\n",
    "        [\n",
    "            {\n",
    "                \"data_element_id\": \"pikOziyCXbM\",\n",
    "                \"period\": \"202401\",\n",
    "                \"organisation_unit_id\": \"O6uvpzGd5pu\",\n",
    "                \"category_option_combo_id\": \"psbwp3CQEhs\",\n",
    "                \"attribute_option_combo_id\": \"HllvX50cXC0\",\n",
    "                \"value\": \"100\",\n",
    "            },\n",
    "            {\n",
    "                \"data_element_id\": \"pikOziyCXbM\",\n",
    "                \"period\": \"202402\",\n",
    "                \"organisation_unit_id\": \"O6uvpzGd5pu\",\n",
    "                \"category_option_combo_id\": \"psbwp3CQEhs\",\n",
    "                \"attribute_option_combo_id\": \"HllvX50cXC0\",\n",
    "                \"value\": \"150\",\n",
    "            },\n",
    "        ]\n",
    "    )\n",
    "\n",
    "    report = dataframe.import_data_values(sle, data=df, import_strategy=\"CREATE_AND_UPDATE\", dry_run=True)\n",
    "\n",
    "    for status in (\"imported\", \"updated\", \"ignored\", \"deleted\"):\n",
    "        assert report[status] >= 0\n",
    "\n",
    "    return report\n",
    "\n",
    "\n",
    "r = test_import_data_values(sle)\n",
    "r"
   ]
  },
  {
   "cell_type": "code",
   "execution_count": 20,
   "metadata": {},
   "outputs": [
    {
     "name": "stderr",
     "output_type": "stream",
     "text": [
      "DEBUG:openhexa.toolbox.dhis2.dataframe:Dropped 0 rows with null values\n"
     ]
    },
    {
     "data": {
      "text/plain": [
       "{'imported': 2, 'updated': 0, 'ignored': 0, 'deleted': 0}"
      ]
     },
     "execution_count": 20,
     "metadata": {},
     "output_type": "execute_result"
    }
   ],
   "source": [
    "@_recorder.record(file_path=Path(responses_dir, \"import_data_values_with_mapping.yaml\"))\n",
    "def test_import_data_values_with_mapping(dhis2: DHIS2):\n",
    "    df = pl.DataFrame(\n",
    "        [\n",
    "            {\n",
    "                \"data_element_id\": \"yyy\",\n",
    "                \"period\": \"202401\",\n",
    "                \"organisation_unit_id\": \"xxx\",\n",
    "                \"category_option_combo_id\": \"psbwp3CQEhs\",\n",
    "                \"attribute_option_combo_id\": \"HllvX50cXC0\",\n",
    "                \"value\": \"100\",\n",
    "            },\n",
    "            {\n",
    "                \"data_element_id\": \"yyy\",\n",
    "                \"period\": \"202402\",\n",
    "                \"organisation_unit_id\": \"xxx\",\n",
    "                \"category_option_combo_id\": \"psbwp3CQEhs\",\n",
    "                \"attribute_option_combo_id\": \"HllvX50cXC0\",\n",
    "                \"value\": \"150\",\n",
    "            },\n",
    "        ]\n",
    "    )\n",
    "\n",
    "    org_units_mapping = {\"xxx\": \"O6uvpzGd5pu\"}\n",
    "\n",
    "    data_elements_mapping = {\"yyy\": \"pikOziyCXbM\"}\n",
    "\n",
    "    report = dataframe.import_data_values(\n",
    "        sle,\n",
    "        data=df,\n",
    "        org_units_mapping=org_units_mapping,\n",
    "        data_elements_mapping=data_elements_mapping,\n",
    "        import_strategy=\"CREATE_AND_UPDATE\",\n",
    "        dry_run=True,\n",
    "    )\n",
    "\n",
    "    for status in (\"imported\", \"updated\", \"ignored\", \"deleted\"):\n",
    "        assert report[status] >= 0\n",
    "\n",
    "    return report\n",
    "\n",
    "\n",
    "r = test_import_data_values_with_mapping(sle)\n",
    "r"
   ]
  },
  {
   "cell_type": "code",
   "execution_count": 6,
   "metadata": {},
   "outputs": [
    {
     "name": "stderr",
     "output_type": "stream",
     "text": [
      "DEBUG:openhexa.toolbox.dhis2.api:API request http://localhost:8080/api/tracker/events?orgUnit=ImspTQPwCqd&program=lxAQ7Zs9VYR&ouMode=DESCENDANTS&occurredAfter=2025-04-01&occurredBefore=2025-06-01&fields=event%2Cstatus%2Cprogram%2CprogramStage%2CorgUnit%2CoccurredAt%2Cdeleted%2CattributeOptionCombo%2CdataValues&pageSize=1000\n"
     ]
    },
    {
     "data": {
      "text/html": [
       "<div><style>\n",
       ".dataframe > thead > tr,\n",
       ".dataframe > tbody > tr {\n",
       "  text-align: right;\n",
       "  white-space: pre-wrap;\n",
       "}\n",
       "</style>\n",
       "<small>shape: (6, 10)</small><table border=\"1\" class=\"dataframe\"><thead><tr><th>event_id</th><th>status</th><th>program_id</th><th>program_stage_id</th><th>organisation_unit_id</th><th>occurred_at</th><th>deleted</th><th>attribute_option_combo_id</th><th>data_element_id</th><th>value</th></tr><tr><td>str</td><td>str</td><td>str</td><td>str</td><td>str</td><td>datetime[ms, UTC]</td><td>bool</td><td>str</td><td>str</td><td>str</td></tr></thead><tbody><tr><td>&quot;ohAH6BXIMad&quot;</td><td>&quot;ACTIVE&quot;</td><td>&quot;lxAQ7Zs9VYR&quot;</td><td>&quot;dBwrot7S420&quot;</td><td>&quot;DiszpKrYNg8&quot;</td><td>2025-04-07 00:00:00 UTC</td><td>false</td><td>&quot;HllvX50cXC0&quot;</td><td>&quot;sWoqcoByYmD&quot;</td><td>&quot;false&quot;</td></tr><tr><td>&quot;ohAH6BXIMad&quot;</td><td>&quot;ACTIVE&quot;</td><td>&quot;lxAQ7Zs9VYR&quot;</td><td>&quot;dBwrot7S420&quot;</td><td>&quot;DiszpKrYNg8&quot;</td><td>2025-04-07 00:00:00 UTC</td><td>false</td><td>&quot;HllvX50cXC0&quot;</td><td>&quot;sWoqcoByYmD&quot;</td><td>&quot;false&quot;</td></tr><tr><td>&quot;onXW2DQHRGS&quot;</td><td>&quot;ACTIVE&quot;</td><td>&quot;lxAQ7Zs9VYR&quot;</td><td>&quot;dBwrot7S420&quot;</td><td>&quot;DiszpKrYNg8&quot;</td><td>2025-04-01 00:00:00 UTC</td><td>false</td><td>&quot;HllvX50cXC0&quot;</td><td>&quot;sWoqcoByYmD&quot;</td><td>&quot;false&quot;</td></tr><tr><td>&quot;onXW2DQHRGS&quot;</td><td>&quot;ACTIVE&quot;</td><td>&quot;lxAQ7Zs9VYR&quot;</td><td>&quot;dBwrot7S420&quot;</td><td>&quot;DiszpKrYNg8&quot;</td><td>2025-04-01 00:00:00 UTC</td><td>false</td><td>&quot;HllvX50cXC0&quot;</td><td>&quot;sWoqcoByYmD&quot;</td><td>&quot;false&quot;</td></tr><tr><td>&quot;A7vnB73x5Xw&quot;</td><td>&quot;ACTIVE&quot;</td><td>&quot;lxAQ7Zs9VYR&quot;</td><td>&quot;dBwrot7S420&quot;</td><td>&quot;DiszpKrYNg8&quot;</td><td>2025-04-01 00:00:00 UTC</td><td>false</td><td>&quot;HllvX50cXC0&quot;</td><td>&quot;sWoqcoByYmD&quot;</td><td>&quot;true&quot;</td></tr><tr><td>&quot;A7vnB73x5Xw&quot;</td><td>&quot;ACTIVE&quot;</td><td>&quot;lxAQ7Zs9VYR&quot;</td><td>&quot;dBwrot7S420&quot;</td><td>&quot;DiszpKrYNg8&quot;</td><td>2025-04-01 00:00:00 UTC</td><td>false</td><td>&quot;HllvX50cXC0&quot;</td><td>&quot;sWoqcoByYmD&quot;</td><td>&quot;true&quot;</td></tr></tbody></table></div>"
      ],
      "text/plain": [
       "shape: (6, 10)\n",
       "┌─────────────┬────────┬─────────────┬─────────────┬───┬─────────┬────────────┬────────────┬───────┐\n",
       "│ event_id    ┆ status ┆ program_id  ┆ program_sta ┆ … ┆ deleted ┆ attribute_ ┆ data_eleme ┆ value │\n",
       "│ ---         ┆ ---    ┆ ---         ┆ ge_id       ┆   ┆ ---     ┆ option_com ┆ nt_id      ┆ ---   │\n",
       "│ str         ┆ str    ┆ str         ┆ ---         ┆   ┆ bool    ┆ bo_id      ┆ ---        ┆ str   │\n",
       "│             ┆        ┆             ┆ str         ┆   ┆         ┆ ---        ┆ str        ┆       │\n",
       "│             ┆        ┆             ┆             ┆   ┆         ┆ str        ┆            ┆       │\n",
       "╞═════════════╪════════╪═════════════╪═════════════╪═══╪═════════╪════════════╪════════════╪═══════╡\n",
       "│ ohAH6BXIMad ┆ ACTIVE ┆ lxAQ7Zs9VYR ┆ dBwrot7S420 ┆ … ┆ false   ┆ HllvX50cXC ┆ sWoqcoByYm ┆ false │\n",
       "│             ┆        ┆             ┆             ┆   ┆         ┆ 0          ┆ D          ┆       │\n",
       "│ ohAH6BXIMad ┆ ACTIVE ┆ lxAQ7Zs9VYR ┆ dBwrot7S420 ┆ … ┆ false   ┆ HllvX50cXC ┆ sWoqcoByYm ┆ false │\n",
       "│             ┆        ┆             ┆             ┆   ┆         ┆ 0          ┆ D          ┆       │\n",
       "│ onXW2DQHRGS ┆ ACTIVE ┆ lxAQ7Zs9VYR ┆ dBwrot7S420 ┆ … ┆ false   ┆ HllvX50cXC ┆ sWoqcoByYm ┆ false │\n",
       "│             ┆        ┆             ┆             ┆   ┆         ┆ 0          ┆ D          ┆       │\n",
       "│ onXW2DQHRGS ┆ ACTIVE ┆ lxAQ7Zs9VYR ┆ dBwrot7S420 ┆ … ┆ false   ┆ HllvX50cXC ┆ sWoqcoByYm ┆ false │\n",
       "│             ┆        ┆             ┆             ┆   ┆         ┆ 0          ┆ D          ┆       │\n",
       "│ A7vnB73x5Xw ┆ ACTIVE ┆ lxAQ7Zs9VYR ┆ dBwrot7S420 ┆ … ┆ false   ┆ HllvX50cXC ┆ sWoqcoByYm ┆ true  │\n",
       "│             ┆        ┆             ┆             ┆   ┆         ┆ 0          ┆ D          ┆       │\n",
       "│ A7vnB73x5Xw ┆ ACTIVE ┆ lxAQ7Zs9VYR ┆ dBwrot7S420 ┆ … ┆ false   ┆ HllvX50cXC ┆ sWoqcoByYm ┆ true  │\n",
       "│             ┆        ┆             ┆             ┆   ┆         ┆ 0          ┆ D          ┆       │\n",
       "└─────────────┴────────┴─────────────┴─────────────┴───┴─────────┴────────────┴────────────┴───────┘"
      ]
     },
     "execution_count": 6,
     "metadata": {},
     "output_type": "execute_result"
    }
   ],
   "source": [
    "@_recorder.record(file_path=Path(responses_dir, \"extract_events.yaml\"))\n",
    "def test_extract_events(dhis2: DHIS2):\n",
    "    df = dataframe.extract_events(dhis2=dhis2, program_id=\"lxAQ7Zs9VYR\", org_unit_parents=[\"ImspTQPwCqd\"])\n",
    "    assert len(df) > 0\n",
    "    assert df.null_count().sum_horizontal().item() == 0\n",
    "    return df\n",
    "\n",
    "\n",
    "r = test_extract_events(sle)\n",
    "r"
   ]
  },
  {
   "cell_type": "code",
   "execution_count": null,
   "metadata": {},
   "outputs": [],
   "source": []
  }
 ],
 "metadata": {
  "kernelspec": {
   "display_name": "openhexa-toolbox-dev",
   "language": "python",
   "name": "python3"
  },
  "language_info": {
   "codemirror_mode": {
    "name": "ipython",
    "version": 3
   },
   "file_extension": ".py",
   "mimetype": "text/x-python",
   "name": "python",
   "nbconvert_exporter": "python",
   "pygments_lexer": "ipython3",
   "version": "3.11.10"
  }
 },
 "nbformat": 4,
 "nbformat_minor": 2
}
